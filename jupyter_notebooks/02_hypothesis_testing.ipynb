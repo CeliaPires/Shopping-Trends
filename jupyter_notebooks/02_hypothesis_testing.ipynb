{
 "cells": [
  {
   "cell_type": "markdown",
   "id": "dcd5b2fd",
   "metadata": {},
   "source": [
    "# **Hypothesis testing**"
   ]
  },
  {
   "cell_type": "markdown",
   "id": "ccd53cd2",
   "metadata": {},
   "source": [
    "## Business goals: promotion response\n",
    "\n",
    "* Which segments are more likely to respond to promotional events (i.e., use promo codes or discounts)?\n",
    "\n",
    "* What customer attributes correlate with higher spending during promotions?\n",
    "\n",
    "\n"
   ]
  },
  {
   "cell_type": "markdown",
   "id": "c1ebe6c6",
   "metadata": {},
   "source": [
    "# **Statistical tests**"
   ]
  },
  {
   "cell_type": "markdown",
   "id": "f20c1370",
   "metadata": {},
   "source": [
    "* Loading of the dataset as Pandas DataFrame."
   ]
  },
  {
   "cell_type": "code",
   "execution_count": 45,
   "id": "bcdf3c87",
   "metadata": {},
   "outputs": [],
   "source": [
    "import pandas as pd\n",
    "import numpy as np"
   ]
  },
  {
   "cell_type": "markdown",
   "id": "9a3dbfa5",
   "metadata": {},
   "source": [
    "* 'pd.read_csv()'"
   ]
  },
  {
   "cell_type": "code",
   "execution_count": 2,
   "id": "2f3887af",
   "metadata": {},
   "outputs": [
    {
     "data": {
      "text/html": [
       "<div>\n",
       "<style scoped>\n",
       "    .dataframe tbody tr th:only-of-type {\n",
       "        vertical-align: middle;\n",
       "    }\n",
       "\n",
       "    .dataframe tbody tr th {\n",
       "        vertical-align: top;\n",
       "    }\n",
       "\n",
       "    .dataframe thead th {\n",
       "        text-align: right;\n",
       "    }\n",
       "</style>\n",
       "<table border=\"1\" class=\"dataframe\">\n",
       "  <thead>\n",
       "    <tr style=\"text-align: right;\">\n",
       "      <th></th>\n",
       "      <th>age</th>\n",
       "      <th>age_group</th>\n",
       "      <th>gender</th>\n",
       "      <th>item_purchased</th>\n",
       "      <th>category</th>\n",
       "      <th>purchase_amount_(usd)</th>\n",
       "      <th>location</th>\n",
       "      <th>colour</th>\n",
       "      <th>season</th>\n",
       "      <th>review_rating</th>\n",
       "      <th>subscription_status</th>\n",
       "      <th>shipping_type</th>\n",
       "      <th>discount_applied</th>\n",
       "      <th>promo_code_used</th>\n",
       "      <th>previous_purchases</th>\n",
       "      <th>payment_method</th>\n",
       "      <th>frequency_of_purchases</th>\n",
       "    </tr>\n",
       "  </thead>\n",
       "  <tbody>\n",
       "    <tr>\n",
       "      <th>0</th>\n",
       "      <td>55</td>\n",
       "      <td>Pre-Retirement</td>\n",
       "      <td>Male</td>\n",
       "      <td>Blouse</td>\n",
       "      <td>Clothing</td>\n",
       "      <td>53</td>\n",
       "      <td>Kentucky</td>\n",
       "      <td>Gray</td>\n",
       "      <td>Winter</td>\n",
       "      <td>3.1</td>\n",
       "      <td>Yes</td>\n",
       "      <td>Express</td>\n",
       "      <td>Yes</td>\n",
       "      <td>Yes</td>\n",
       "      <td>14</td>\n",
       "      <td>Venmo</td>\n",
       "      <td>Bi-Weekly</td>\n",
       "    </tr>\n",
       "    <tr>\n",
       "      <th>1</th>\n",
       "      <td>19</td>\n",
       "      <td>Gen Z</td>\n",
       "      <td>Male</td>\n",
       "      <td>Sweater</td>\n",
       "      <td>Clothing</td>\n",
       "      <td>64</td>\n",
       "      <td>Maine</td>\n",
       "      <td>Maroon</td>\n",
       "      <td>Winter</td>\n",
       "      <td>3.1</td>\n",
       "      <td>Yes</td>\n",
       "      <td>Express</td>\n",
       "      <td>Yes</td>\n",
       "      <td>Yes</td>\n",
       "      <td>2</td>\n",
       "      <td>Cash</td>\n",
       "      <td>Bi-Weekly</td>\n",
       "    </tr>\n",
       "    <tr>\n",
       "      <th>2</th>\n",
       "      <td>50</td>\n",
       "      <td>Gen X Late</td>\n",
       "      <td>Male</td>\n",
       "      <td>Jeans</td>\n",
       "      <td>Clothing</td>\n",
       "      <td>73</td>\n",
       "      <td>Massachusetts</td>\n",
       "      <td>Maroon</td>\n",
       "      <td>Spring</td>\n",
       "      <td>3.1</td>\n",
       "      <td>Yes</td>\n",
       "      <td>Free Shipping</td>\n",
       "      <td>Yes</td>\n",
       "      <td>Yes</td>\n",
       "      <td>23</td>\n",
       "      <td>Credit Card</td>\n",
       "      <td>Weekly</td>\n",
       "    </tr>\n",
       "    <tr>\n",
       "      <th>3</th>\n",
       "      <td>21</td>\n",
       "      <td>Gen Z</td>\n",
       "      <td>Male</td>\n",
       "      <td>Sandals</td>\n",
       "      <td>Footwear</td>\n",
       "      <td>90</td>\n",
       "      <td>Rhode Island</td>\n",
       "      <td>Maroon</td>\n",
       "      <td>Spring</td>\n",
       "      <td>3.5</td>\n",
       "      <td>Yes</td>\n",
       "      <td>Next Day Air</td>\n",
       "      <td>Yes</td>\n",
       "      <td>Yes</td>\n",
       "      <td>49</td>\n",
       "      <td>PayPal</td>\n",
       "      <td>Weekly</td>\n",
       "    </tr>\n",
       "    <tr>\n",
       "      <th>4</th>\n",
       "      <td>45</td>\n",
       "      <td>Gen X Late</td>\n",
       "      <td>Male</td>\n",
       "      <td>Blouse</td>\n",
       "      <td>Clothing</td>\n",
       "      <td>49</td>\n",
       "      <td>Oregon</td>\n",
       "      <td>Turquoise</td>\n",
       "      <td>Spring</td>\n",
       "      <td>2.7</td>\n",
       "      <td>Yes</td>\n",
       "      <td>Free Shipping</td>\n",
       "      <td>Yes</td>\n",
       "      <td>Yes</td>\n",
       "      <td>31</td>\n",
       "      <td>PayPal</td>\n",
       "      <td>Annually</td>\n",
       "    </tr>\n",
       "    <tr>\n",
       "      <th>...</th>\n",
       "      <td>...</td>\n",
       "      <td>...</td>\n",
       "      <td>...</td>\n",
       "      <td>...</td>\n",
       "      <td>...</td>\n",
       "      <td>...</td>\n",
       "      <td>...</td>\n",
       "      <td>...</td>\n",
       "      <td>...</td>\n",
       "      <td>...</td>\n",
       "      <td>...</td>\n",
       "      <td>...</td>\n",
       "      <td>...</td>\n",
       "      <td>...</td>\n",
       "      <td>...</td>\n",
       "      <td>...</td>\n",
       "      <td>...</td>\n",
       "    </tr>\n",
       "    <tr>\n",
       "      <th>3895</th>\n",
       "      <td>40</td>\n",
       "      <td>Gen X Early</td>\n",
       "      <td>Female</td>\n",
       "      <td>Hoodie</td>\n",
       "      <td>Clothing</td>\n",
       "      <td>28</td>\n",
       "      <td>Virginia</td>\n",
       "      <td>Turquoise</td>\n",
       "      <td>Summer</td>\n",
       "      <td>4.2</td>\n",
       "      <td>No</td>\n",
       "      <td>2-Day Shipping</td>\n",
       "      <td>No</td>\n",
       "      <td>No</td>\n",
       "      <td>32</td>\n",
       "      <td>Venmo</td>\n",
       "      <td>Weekly</td>\n",
       "    </tr>\n",
       "    <tr>\n",
       "      <th>3896</th>\n",
       "      <td>52</td>\n",
       "      <td>Gen X Late</td>\n",
       "      <td>Female</td>\n",
       "      <td>Backpack</td>\n",
       "      <td>Accessories</td>\n",
       "      <td>49</td>\n",
       "      <td>Iowa</td>\n",
       "      <td>White</td>\n",
       "      <td>Spring</td>\n",
       "      <td>4.5</td>\n",
       "      <td>No</td>\n",
       "      <td>Store Pickup</td>\n",
       "      <td>No</td>\n",
       "      <td>No</td>\n",
       "      <td>41</td>\n",
       "      <td>Bank Transfer</td>\n",
       "      <td>Bi-Weekly</td>\n",
       "    </tr>\n",
       "    <tr>\n",
       "      <th>3897</th>\n",
       "      <td>46</td>\n",
       "      <td>Gen X Late</td>\n",
       "      <td>Female</td>\n",
       "      <td>Belt</td>\n",
       "      <td>Accessories</td>\n",
       "      <td>33</td>\n",
       "      <td>New Jersey</td>\n",
       "      <td>Green</td>\n",
       "      <td>Spring</td>\n",
       "      <td>2.9</td>\n",
       "      <td>No</td>\n",
       "      <td>Standard</td>\n",
       "      <td>No</td>\n",
       "      <td>No</td>\n",
       "      <td>24</td>\n",
       "      <td>Venmo</td>\n",
       "      <td>Quarterly</td>\n",
       "    </tr>\n",
       "    <tr>\n",
       "      <th>3898</th>\n",
       "      <td>44</td>\n",
       "      <td>Gen X Early</td>\n",
       "      <td>Female</td>\n",
       "      <td>Shoes</td>\n",
       "      <td>Footwear</td>\n",
       "      <td>77</td>\n",
       "      <td>Minnesota</td>\n",
       "      <td>Brown</td>\n",
       "      <td>Summer</td>\n",
       "      <td>3.8</td>\n",
       "      <td>No</td>\n",
       "      <td>Express</td>\n",
       "      <td>No</td>\n",
       "      <td>No</td>\n",
       "      <td>24</td>\n",
       "      <td>Venmo</td>\n",
       "      <td>Weekly</td>\n",
       "    </tr>\n",
       "    <tr>\n",
       "      <th>3899</th>\n",
       "      <td>52</td>\n",
       "      <td>Gen X Late</td>\n",
       "      <td>Female</td>\n",
       "      <td>Handbag</td>\n",
       "      <td>Accessories</td>\n",
       "      <td>81</td>\n",
       "      <td>California</td>\n",
       "      <td>Beige</td>\n",
       "      <td>Spring</td>\n",
       "      <td>3.1</td>\n",
       "      <td>No</td>\n",
       "      <td>Store Pickup</td>\n",
       "      <td>No</td>\n",
       "      <td>No</td>\n",
       "      <td>33</td>\n",
       "      <td>Venmo</td>\n",
       "      <td>Quarterly</td>\n",
       "    </tr>\n",
       "  </tbody>\n",
       "</table>\n",
       "<p>3900 rows × 17 columns</p>\n",
       "</div>"
      ],
      "text/plain": [
       "      age       age_group  gender item_purchased     category  \\\n",
       "0      55  Pre-Retirement    Male         Blouse     Clothing   \n",
       "1      19           Gen Z    Male        Sweater     Clothing   \n",
       "2      50      Gen X Late    Male          Jeans     Clothing   \n",
       "3      21           Gen Z    Male        Sandals     Footwear   \n",
       "4      45      Gen X Late    Male         Blouse     Clothing   \n",
       "...   ...             ...     ...            ...          ...   \n",
       "3895   40     Gen X Early  Female         Hoodie     Clothing   \n",
       "3896   52      Gen X Late  Female       Backpack  Accessories   \n",
       "3897   46      Gen X Late  Female           Belt  Accessories   \n",
       "3898   44     Gen X Early  Female          Shoes     Footwear   \n",
       "3899   52      Gen X Late  Female        Handbag  Accessories   \n",
       "\n",
       "      purchase_amount_(usd)       location     colour  season  review_rating  \\\n",
       "0                        53       Kentucky       Gray  Winter            3.1   \n",
       "1                        64          Maine     Maroon  Winter            3.1   \n",
       "2                        73  Massachusetts     Maroon  Spring            3.1   \n",
       "3                        90   Rhode Island     Maroon  Spring            3.5   \n",
       "4                        49         Oregon  Turquoise  Spring            2.7   \n",
       "...                     ...            ...        ...     ...            ...   \n",
       "3895                     28       Virginia  Turquoise  Summer            4.2   \n",
       "3896                     49           Iowa      White  Spring            4.5   \n",
       "3897                     33     New Jersey      Green  Spring            2.9   \n",
       "3898                     77      Minnesota      Brown  Summer            3.8   \n",
       "3899                     81     California      Beige  Spring            3.1   \n",
       "\n",
       "     subscription_status   shipping_type discount_applied promo_code_used  \\\n",
       "0                    Yes         Express              Yes             Yes   \n",
       "1                    Yes         Express              Yes             Yes   \n",
       "2                    Yes   Free Shipping              Yes             Yes   \n",
       "3                    Yes    Next Day Air              Yes             Yes   \n",
       "4                    Yes   Free Shipping              Yes             Yes   \n",
       "...                  ...             ...              ...             ...   \n",
       "3895                  No  2-Day Shipping               No              No   \n",
       "3896                  No    Store Pickup               No              No   \n",
       "3897                  No        Standard               No              No   \n",
       "3898                  No         Express               No              No   \n",
       "3899                  No    Store Pickup               No              No   \n",
       "\n",
       "      previous_purchases payment_method frequency_of_purchases  \n",
       "0                     14          Venmo              Bi-Weekly  \n",
       "1                      2           Cash              Bi-Weekly  \n",
       "2                     23    Credit Card                 Weekly  \n",
       "3                     49         PayPal                 Weekly  \n",
       "4                     31         PayPal               Annually  \n",
       "...                  ...            ...                    ...  \n",
       "3895                  32          Venmo                 Weekly  \n",
       "3896                  41  Bank Transfer              Bi-Weekly  \n",
       "3897                  24          Venmo              Quarterly  \n",
       "3898                  24          Venmo                 Weekly  \n",
       "3899                  33          Venmo              Quarterly  \n",
       "\n",
       "[3900 rows x 17 columns]"
      ]
     },
     "execution_count": 2,
     "metadata": {},
     "output_type": "execute_result"
    }
   ],
   "source": [
    "import pandas as pd\n",
    "df_cleaned = pd.read_csv('../jupyter_notebooks/final/cleaned_shopping_trends_and_customer_behaviour_dataset.csv') \n",
    "df_cleaned"
   ]
  },
  {
   "cell_type": "code",
   "execution_count": 3,
   "id": "2859ba9d",
   "metadata": {},
   "outputs": [],
   "source": [
    "import scipy.stats as stats"
   ]
  },
  {
   "cell_type": "markdown",
   "id": "d6b342c4",
   "metadata": {},
   "source": [
    "* H1: Younger customer groups use promo codes more often than older groups."
   ]
  },
  {
   "cell_type": "code",
   "execution_count": null,
   "id": "79d1f834",
   "metadata": {},
   "outputs": [
    {
     "name": "stdout",
     "output_type": "stream",
     "text": [
      "H1 - Age Group vs Promo Code Usage:\n",
      "Chi² Stat: 1.0887155051993171\n",
      "p-value: 0.9550976431155631\n",
      "Significant: False\n",
      "\n",
      "\n"
     ]
    }
   ],
   "source": [
    "# Clean and preprocess columns\n",
    "\n",
    "# .str.strip() removes any leading or trailing spaces (e.g., \" Yes \" becomes \"Yes\").\n",
    "# .str.lower() converts the entire string to lowercase (e.g., \"Yes\" becomes \"yes\").\n",
    "\n",
    "df_cleaned['promo_code_used'] = df_cleaned['promo_code_used'].str.strip().str.lower()\n",
    "\n",
    "# H1: Age group vs Promo code usage (Chi-squared)\n",
    "h1_table = pd.crosstab(df_cleaned['age_group'], df_cleaned['promo_code_used'])\n",
    "h1_chi2, h1_p, _, _ = stats.chi2_contingency(h1_table)\n",
    "\n",
    "# Display results\n",
    "print(\"H1 - Age Group vs Promo Code Usage:\")\n",
    "print(\"Chi² Stat:\", h1_chi2)\n",
    "print(\"p-value:\", h1_p)\n",
    "print(\"Significant:\", h1_p < 0.05)\n",
    "print(\"\\n\")"
   ]
  },
  {
   "cell_type": "markdown",
   "id": "20a6acff",
   "metadata": {},
   "source": [
    "* Interpretation: The p-value is much greater than 0.05, so we fail to reject the null hypothesis. There is no statistically significant difference in promo code usage across age groups."
   ]
  },
  {
   "cell_type": "markdown",
   "id": "cf51fa84",
   "metadata": {},
   "source": [
    "* H2: Female customers are more likely to use discounts than male customers."
   ]
  },
  {
   "cell_type": "code",
   "execution_count": null,
   "id": "69161392",
   "metadata": {},
   "outputs": [
    {
     "name": "stdout",
     "output_type": "stream",
     "text": [
      "H2 - Gender vs Discount Usage:\n",
      "Chi² Stat: 1381.9413463923058\n",
      "p-value: 1.7645380691667684e-302\n",
      "Significant: True\n",
      "\n",
      "\n"
     ]
    }
   ],
   "source": [
    "# Clean and preprocess columns\n",
    "\n",
    "# .str.strip() removes any leading or trailing spaces (e.g., \" Yes \" becomes \"Yes\").\n",
    "# .str.lower() converts the entire string to lowercase (e.g., \"Yes\" becomes \"yes\").\n",
    "\n",
    "df_cleaned['discount_applied'] = df_cleaned['discount_applied'].str.strip().str.lower()\n",
    "\n",
    "# H2: Gender vs Discount usage (Chi-squared)\n",
    "h2_table = pd.crosstab(df_cleaned['gender'], df_cleaned['discount_applied'])\n",
    "h2_chi2, h2_p, _, _ = stats.chi2_contingency(h2_table)\n",
    "\n",
    "# Display results\n",
    "print(\"H2 - Gender vs Discount Usage:\")\n",
    "print(\"Chi² Stat:\", h2_chi2)\n",
    "print(\"p-value:\", h2_p)\n",
    "print(\"Significant:\", h2_p < 0.05)\n",
    "print(\"\\n\")"
   ]
  },
  {
   "cell_type": "markdown",
   "id": "b7b48d87",
   "metadata": {},
   "source": [
    "* Interpretation: The p-value is far below 0.05 [1.76e−302 = in plain terms to 0.000...(301 zeros)...176] so we reject the null hypothesis. There is a strong correlation between gender and discount usage. Female customers are significantly more likely to use discounts than male customers."
   ]
  },
  {
   "cell_type": "markdown",
   "id": "794db853",
   "metadata": {},
   "source": [
    "* H3: Customers who use discounts tend to spend more per purchase."
   ]
  },
  {
   "cell_type": "code",
   "execution_count": null,
   "id": "23248d4a",
   "metadata": {},
   "outputs": [
    {
     "name": "stdout",
     "output_type": "stream",
     "text": [
      "H3 - Discount vs Spend:\n",
      "Chi² Stat: 0.26611244488939256\n",
      "p-value: -1.1122316185807992\n",
      "Significant: False\n",
      "\n",
      "\n"
     ]
    }
   ],
   "source": [
    "# Clean and preprocess columns\n",
    "\n",
    "# .str.strip() removes any leading or trailing spaces (e.g., \" Yes \" becomes \"Yes\").\n",
    "# .str.capitalize() ensures the first letter is uppercase and the rest are lowercase (e.g., \"male\" becomes \"Male\").\n",
    "\n",
    "df_cleaned['gender'] = df_cleaned['gender'].str.strip().str.capitalize()\n",
    "\n",
    "# H3: Spend difference by discount usage (t-test)\n",
    "group1 = df_cleaned[df_cleaned['discount_applied'] == 'yes']['purchase_amount_(usd)']\n",
    "group2 = df_cleaned[df_cleaned['discount_applied'] == 'no']['purchase_amount_(usd)']\n",
    "h3_t, h3_p = stats.ttest_ind(group1, group2, equal_var=False)\n",
    "\n",
    "# Display results\n",
    "print(\"H3 - Discount vs Spend:\")\n",
    "print(\"Chi² Stat:\", h3_p)\n",
    "print(\"p-value:\", h3_t)\n",
    "print(\"Significant:\", h3_p < 0.05)\n",
    "print(\"\\n\")"
   ]
  },
  {
   "cell_type": "markdown",
   "id": "cdf52136",
   "metadata": {},
   "source": [
    "* Interpretation: The p-value is greater than 0.05, so we fail to reject the null hypothesis. There is no significant difference in spending between customers who use discounts and those who do not."
   ]
  },
  {
   "cell_type": "markdown",
   "id": "c923d0bb",
   "metadata": {},
   "source": [
    "* H4: Season affects promotion response (e.g., more promo code use during Winter sales)"
   ]
  },
  {
   "cell_type": "code",
   "execution_count": null,
   "id": "ce06594e",
   "metadata": {},
   "outputs": [
    {
     "name": "stdout",
     "output_type": "stream",
     "text": [
      "H4 - Season vs Promo Code Usage:\n",
      "Chi² Stat: 3.1687022338896487\n",
      "p-value: 0.3663388240993125\n",
      "Significant: False\n",
      "\n",
      "\n"
     ]
    }
   ],
   "source": [
    "# Clean and preprocess columns\n",
    "\n",
    "# .str.strip() removes any leading or trailing spaces (e.g., \" Yes \" becomes \"Yes\").\n",
    "\n",
    "df_cleaned['age_group'] = df_cleaned['age_group'].str.strip()\n",
    "\n",
    "# H4: Season vs Promo code usage (Chi-squared)\n",
    "h4_table = pd.crosstab(df_cleaned['season'], df_cleaned['promo_code_used'])\n",
    "h4_chi2, h4_p, _, _ = stats.chi2_contingency(h4_table)\n",
    "\n",
    "# Display results\n",
    "print(\"H4 - Season vs Promo Code Usage:\")\n",
    "print(\"Chi² Stat:\", h4_chi2)\n",
    "print(\"p-value:\", h4_p)\n",
    "print(\"Significant:\", h4_p < 0.05)\n",
    "print(\"\\n\")"
   ]
  },
  {
   "cell_type": "markdown",
   "id": "7f306f92",
   "metadata": {},
   "source": [
    "* Interpretation: The p-value is greater than 0.05, so we fail to reject the null hypothesis. There is no statistically significant correlation between season and promotional code usage."
   ]
  },
  {
   "cell_type": "markdown",
   "id": "e89abb8a",
   "metadata": {},
   "source": [
    "# **Visualisation for each hypothesis**"
   ]
  },
  {
   "cell_type": "markdown",
   "id": "49198837",
   "metadata": {},
   "source": [
    "* Import of libraries"
   ]
  },
  {
   "cell_type": "code",
   "execution_count": 46,
   "id": "09f30f69",
   "metadata": {},
   "outputs": [],
   "source": [
    "import matplotlib.pyplot as plt"
   ]
  },
  {
   "cell_type": "code",
   "execution_count": 47,
   "id": "73b23ddf",
   "metadata": {},
   "outputs": [],
   "source": [
    "import seaborn as sns\n",
    "sns.set(style=\"whitegrid\")"
   ]
  },
  {
   "cell_type": "code",
   "execution_count": 48,
   "id": "1d2eb016",
   "metadata": {},
   "outputs": [],
   "source": [
    "import plotly.express as px"
   ]
  },
  {
   "cell_type": "markdown",
   "id": "ff1dea29",
   "metadata": {},
   "source": [
    "1. **H1: Promo code usage by age group**"
   ]
  },
  {
   "cell_type": "code",
   "execution_count": 50,
   "id": "0e7a4947",
   "metadata": {},
   "outputs": [
    {
     "name": "stdout",
     "output_type": "stream",
     "text": [
      "Requirement already satisfied: matplotlib in c:\\users\\user\\onedrive\\documents\\vs code projects\\dev\\shopping-trends\\.venv\\lib\\site-packages (3.8.0)\n",
      "Requirement already satisfied: contourpy>=1.0.1 in c:\\users\\user\\onedrive\\documents\\vs code projects\\dev\\shopping-trends\\.venv\\lib\\site-packages (from matplotlib) (1.3.2)\n",
      "Requirement already satisfied: cycler>=0.10 in c:\\users\\user\\onedrive\\documents\\vs code projects\\dev\\shopping-trends\\.venv\\lib\\site-packages (from matplotlib) (0.12.1)\n",
      "Requirement already satisfied: fonttools>=4.22.0 in c:\\users\\user\\onedrive\\documents\\vs code projects\\dev\\shopping-trends\\.venv\\lib\\site-packages (from matplotlib) (4.58.5)\n",
      "Requirement already satisfied: kiwisolver>=1.0.1 in c:\\users\\user\\onedrive\\documents\\vs code projects\\dev\\shopping-trends\\.venv\\lib\\site-packages (from matplotlib) (1.4.8)\n",
      "Requirement already satisfied: numpy<2,>=1.21 in c:\\users\\user\\onedrive\\documents\\vs code projects\\dev\\shopping-trends\\.venv\\lib\\site-packages (from matplotlib) (1.26.1)\n",
      "Requirement already satisfied: packaging>=20.0 in c:\\users\\user\\onedrive\\documents\\vs code projects\\dev\\shopping-trends\\.venv\\lib\\site-packages (from matplotlib) (24.2)\n",
      "Requirement already satisfied: pillow>=6.2.0 in c:\\users\\user\\onedrive\\documents\\vs code projects\\dev\\shopping-trends\\.venv\\lib\\site-packages (from matplotlib) (10.0.1)\n",
      "Requirement already satisfied: pyparsing>=2.3.1 in c:\\users\\user\\onedrive\\documents\\vs code projects\\dev\\shopping-trends\\.venv\\lib\\site-packages (from matplotlib) (3.2.3)\n",
      "Requirement already satisfied: python-dateutil>=2.7 in c:\\users\\user\\onedrive\\documents\\vs code projects\\dev\\shopping-trends\\.venv\\lib\\site-packages (from matplotlib) (2.9.0.post0)\n",
      "Requirement already satisfied: six>=1.5 in c:\\users\\user\\onedrive\\documents\\vs code projects\\dev\\shopping-trends\\.venv\\lib\\site-packages (from python-dateutil>=2.7->matplotlib) (1.17.0)\n"
     ]
    },
    {
     "name": "stderr",
     "output_type": "stream",
     "text": [
      "\n",
      "[notice] A new release of pip is available: 24.3.1 -> 25.1.1\n",
      "[notice] To update, run: python.exe -m pip install --upgrade pip\n"
     ]
    }
   ],
   "source": [
    "!pip install matplotlib"
   ]
  },
  {
   "cell_type": "code",
   "execution_count": 51,
   "id": "3fa4409c",
   "metadata": {},
   "outputs": [
    {
     "ename": "ImportError",
     "evalue": "matplotlib is required for plotting when the default backend \"matplotlib\" is selected.",
     "output_type": "error",
     "traceback": [
      "\u001b[31m---------------------------------------------------------------------------\u001b[39m",
      "\u001b[31mImportError\u001b[39m                               Traceback (most recent call last)",
      "\u001b[36mCell\u001b[39m\u001b[36m \u001b[39m\u001b[32mIn[51]\u001b[39m\u001b[32m, line 6\u001b[39m\n\u001b[32m      4\u001b[39m \u001b[38;5;66;03m# Plot using matplotlib\u001b[39;00m\n\u001b[32m      5\u001b[39m plt.figure(figsize=(\u001b[32m10\u001b[39m, \u001b[32m6\u001b[39m))\n\u001b[32m----> \u001b[39m\u001b[32m6\u001b[39m \u001b[43mage_promo_counts\u001b[49m\u001b[43m.\u001b[49m\u001b[43mplot\u001b[49m\u001b[43m(\u001b[49m\u001b[43mkind\u001b[49m\u001b[43m=\u001b[49m\u001b[33;43m'\u001b[39;49m\u001b[33;43mbar\u001b[39;49m\u001b[33;43m'\u001b[39;49m\u001b[43m,\u001b[49m\u001b[43m \u001b[49m\u001b[43mstacked\u001b[49m\u001b[43m=\u001b[49m\u001b[38;5;28;43;01mTrue\u001b[39;49;00m\u001b[43m,\u001b[49m\u001b[43m \u001b[49m\u001b[43mcolor\u001b[49m\u001b[43m=\u001b[49m\u001b[43m[\u001b[49m\u001b[33;43m'\u001b[39;49m\u001b[33;43msalmon\u001b[39;49m\u001b[33;43m'\u001b[39;49m\u001b[43m,\u001b[49m\u001b[43m \u001b[49m\u001b[33;43m'\u001b[39;49m\u001b[33;43mlightgreen\u001b[39;49m\u001b[33;43m'\u001b[39;49m\u001b[43m]\u001b[49m\u001b[43m)\u001b[49m\n\u001b[32m      8\u001b[39m plt.title(\u001b[33m\"\u001b[39m\u001b[33mPromo code usage by age group\u001b[39m\u001b[33m\"\u001b[39m)\n\u001b[32m      9\u001b[39m plt.xlabel(\u001b[33m\"\u001b[39m\u001b[33mAge group\u001b[39m\u001b[33m\"\u001b[39m)\n",
      "\u001b[36mFile \u001b[39m\u001b[32mc:\\Users\\User\\OneDrive\\Documents\\VS Code Projects\\dev\\Shopping-Trends\\.venv\\Lib\\site-packages\\pandas\\plotting\\_core.py:951\u001b[39m, in \u001b[36m__call__\u001b[39m\u001b[34m(self, *args, **kwargs)\u001b[39m\n\u001b[32m    946\u001b[39m \u001b[38;5;28;01mdef\u001b[39;00m\u001b[38;5;250m \u001b[39m\u001b[34m__call__\u001b[39m(\u001b[38;5;28mself\u001b[39m, *args, **kwargs):\n\u001b[32m    947\u001b[39m     plot_backend = _get_plot_backend(kwargs.pop(\u001b[33m\"\u001b[39m\u001b[33mbackend\u001b[39m\u001b[33m\"\u001b[39m, \u001b[38;5;28;01mNone\u001b[39;00m))\n\u001b[32m    949\u001b[39m     x, y, kind, kwargs = \u001b[38;5;28mself\u001b[39m._get_call_args(\n\u001b[32m    950\u001b[39m         plot_backend.\u001b[34m__name__\u001b[39m, \u001b[38;5;28mself\u001b[39m._parent, args, kwargs\n\u001b[32m--> \u001b[39m\u001b[32m951\u001b[39m     )\n\u001b[32m    953\u001b[39m     kind = \u001b[38;5;28mself\u001b[39m._kind_aliases.get(kind, kind)\n\u001b[32m    955\u001b[39m     \u001b[38;5;66;03m# when using another backend, get out of the way\u001b[39;00m\n",
      "\u001b[36mFile \u001b[39m\u001b[32mc:\\Users\\User\\OneDrive\\Documents\\VS Code Projects\\dev\\Shopping-Trends\\.venv\\Lib\\site-packages\\pandas\\plotting\\_core.py:1947\u001b[39m, in \u001b[36m_get_plot_backend\u001b[39m\u001b[34m(backend)\u001b[39m\n\u001b[32m      0\u001b[39m <Error retrieving source code with stack_data see ipython/ipython#13598>\n",
      "\u001b[36mFile \u001b[39m\u001b[32mc:\\Users\\User\\OneDrive\\Documents\\VS Code Projects\\dev\\Shopping-Trends\\.venv\\Lib\\site-packages\\pandas\\plotting\\_core.py:1877\u001b[39m, in \u001b[36m_load_backend\u001b[39m\u001b[34m(backend)\u001b[39m\n\u001b[32m   1872\u001b[39m         module = importlib.import_module(\u001b[33m\"\u001b[39m\u001b[33mpandas.plotting._matplotlib\u001b[39m\u001b[33m\"\u001b[39m)\n\u001b[32m   1873\u001b[39m     \u001b[38;5;28;01mexcept\u001b[39;00m \u001b[38;5;167;01mImportError\u001b[39;00m:\n\u001b[32m   1874\u001b[39m         \u001b[38;5;28;01mraise\u001b[39;00m \u001b[38;5;167;01mImportError\u001b[39;00m(\n\u001b[32m   1875\u001b[39m             \u001b[33m\"\u001b[39m\u001b[33mmatplotlib is required for plotting when the \u001b[39m\u001b[33m\"\u001b[39m\n\u001b[32m   1876\u001b[39m             \u001b[33m'\u001b[39m\u001b[33mdefault backend \u001b[39m\u001b[33m\"\u001b[39m\u001b[33mmatplotlib\u001b[39m\u001b[33m\"\u001b[39m\u001b[33m is selected.\u001b[39m\u001b[33m'\u001b[39m\n\u001b[32m-> \u001b[39m\u001b[32m1877\u001b[39m         ) \u001b[38;5;28;01mfrom\u001b[39;00m\u001b[38;5;250m \u001b[39m\u001b[38;5;28;01mNone\u001b[39;00m\n\u001b[32m   1878\u001b[39m     \u001b[38;5;28;01mreturn\u001b[39;00m module\n\u001b[32m   1880\u001b[39m found_backend = \u001b[38;5;28;01mFalse\u001b[39;00m\n",
      "\u001b[31mImportError\u001b[39m: matplotlib is required for plotting when the default backend \"matplotlib\" is selected."
     ]
    },
    {
     "data": {
      "text/plain": [
       "<Figure size 1000x600 with 0 Axes>"
      ]
     },
     "metadata": {},
     "output_type": "display_data"
    }
   ],
   "source": [
    "# Create a crosstab of promo code usage by age group\n",
    "age_promo_counts = pd.crosstab(df_cleaned['age_group'], df_cleaned['promo_code_used'])\n",
    "\n",
    "# Plot using matplotlib\n",
    "plt.figure(figsize=(10, 6))\n",
    "age_promo_counts.plot(kind='bar', stacked=True, color=['salmon', 'lightgreen'])\n",
    "\n",
    "plt.title(\"Promo code usage by age group\")\n",
    "plt.xlabel(\"Age group\")\n",
    "plt.ylabel(\"Count\")\n",
    "plt.xticks(rotation=45)\n",
    "plt.legend(title=\"Promo code used\")\n",
    "plt.tight_layout()\n",
    "plt.show()"
   ]
  },
  {
   "cell_type": "markdown",
   "id": "3ff7f2f3",
   "metadata": {},
   "source": [
    "* Promo code usage by age group (H1) shows if younger groups (e.g., Gen Z, Millennials) use more promo codes than other groups. "
   ]
  },
  {
   "cell_type": "markdown",
   "id": "dcae8a1a",
   "metadata": {},
   "source": [
    "2. **H2: Discount usage by gender**"
   ]
  },
  {
   "cell_type": "code",
   "execution_count": 20,
   "id": "d9c6cc4f",
   "metadata": {},
   "outputs": [
    {
     "name": "stdout",
     "output_type": "stream",
     "text": [
      "Note: you may need to restart the kernel to use updated packages.\n"
     ]
    },
    {
     "name": "stderr",
     "output_type": "stream",
     "text": [
      "\n",
      "[notice] A new release of pip is available: 24.3.1 -> 25.1.1\n",
      "[notice] To update, run: python.exe -m pip install --upgrade pip\n"
     ]
    }
   ],
   "source": [
    "%pip install nbformat>=4.2.0"
   ]
  },
  {
   "cell_type": "markdown",
   "id": "040c2b7c",
   "metadata": {},
   "source": [
    "* When running the code initially, faced an error. To resolve error: 'ValueError: Mime type rendering requires nbformat>=4.2.0 but it is not installed', needed to run '%pip install nbformat>=4.2.0' as a code first. Plotly graph now displaying correctly. Breakfix advised by a fellow student (Jane Weightman)."
   ]
  },
  {
   "cell_type": "code",
   "execution_count": 35,
   "id": "a58d7929",
   "metadata": {},
   "outputs": [
    {
     "data": {
      "application/vnd.plotly.v1+json": {
       "config": {
        "plotlyServerURL": "https://plot.ly"
       },
       "data": [
        {
         "alignmentgroup": "True",
         "hovertemplate": "Discount Applied=No<br>gender=%{x}<br>Number of Customers=%{y}<extra></extra>",
         "legendgroup": "No",
         "marker": {
          "color": "#636efa",
          "pattern": {
           "shape": ""
          }
         },
         "name": "No",
         "offsetgroup": "No",
         "orientation": "v",
         "showlegend": true,
         "textposition": "auto",
         "type": "bar",
         "x": [
          "Female",
          "Male"
         ],
         "xaxis": "x",
         "y": [
          1248,
          975
         ],
         "yaxis": "y"
        },
        {
         "alignmentgroup": "True",
         "hovertemplate": "Discount Applied=Yes<br>gender=%{x}<br>Number of Customers=%{y}<extra></extra>",
         "legendgroup": "Yes",
         "marker": {
          "color": "#EF553B",
          "pattern": {
           "shape": ""
          }
         },
         "name": "Yes",
         "offsetgroup": "Yes",
         "orientation": "v",
         "showlegend": true,
         "textposition": "auto",
         "type": "bar",
         "x": [
          "Male"
         ],
         "xaxis": "x",
         "y": [
          1677
         ],
         "yaxis": "y"
        }
       ],
       "layout": {
        "barmode": "group",
        "legend": {
         "title": {
          "text": "Discount Applied"
         },
         "tracegroupgap": 0
        },
        "template": {
         "data": {
          "bar": [
           {
            "error_x": {
             "color": "#2a3f5f"
            },
            "error_y": {
             "color": "#2a3f5f"
            },
            "marker": {
             "line": {
              "color": "#E5ECF6",
              "width": 0.5
             },
             "pattern": {
              "fillmode": "overlay",
              "size": 10,
              "solidity": 0.2
             }
            },
            "type": "bar"
           }
          ],
          "barpolar": [
           {
            "marker": {
             "line": {
              "color": "#E5ECF6",
              "width": 0.5
             },
             "pattern": {
              "fillmode": "overlay",
              "size": 10,
              "solidity": 0.2
             }
            },
            "type": "barpolar"
           }
          ],
          "carpet": [
           {
            "aaxis": {
             "endlinecolor": "#2a3f5f",
             "gridcolor": "white",
             "linecolor": "white",
             "minorgridcolor": "white",
             "startlinecolor": "#2a3f5f"
            },
            "baxis": {
             "endlinecolor": "#2a3f5f",
             "gridcolor": "white",
             "linecolor": "white",
             "minorgridcolor": "white",
             "startlinecolor": "#2a3f5f"
            },
            "type": "carpet"
           }
          ],
          "choropleth": [
           {
            "colorbar": {
             "outlinewidth": 0,
             "ticks": ""
            },
            "type": "choropleth"
           }
          ],
          "contour": [
           {
            "colorbar": {
             "outlinewidth": 0,
             "ticks": ""
            },
            "colorscale": [
             [
              0,
              "#0d0887"
             ],
             [
              0.1111111111111111,
              "#46039f"
             ],
             [
              0.2222222222222222,
              "#7201a8"
             ],
             [
              0.3333333333333333,
              "#9c179e"
             ],
             [
              0.4444444444444444,
              "#bd3786"
             ],
             [
              0.5555555555555556,
              "#d8576b"
             ],
             [
              0.6666666666666666,
              "#ed7953"
             ],
             [
              0.7777777777777778,
              "#fb9f3a"
             ],
             [
              0.8888888888888888,
              "#fdca26"
             ],
             [
              1,
              "#f0f921"
             ]
            ],
            "type": "contour"
           }
          ],
          "contourcarpet": [
           {
            "colorbar": {
             "outlinewidth": 0,
             "ticks": ""
            },
            "type": "contourcarpet"
           }
          ],
          "heatmap": [
           {
            "colorbar": {
             "outlinewidth": 0,
             "ticks": ""
            },
            "colorscale": [
             [
              0,
              "#0d0887"
             ],
             [
              0.1111111111111111,
              "#46039f"
             ],
             [
              0.2222222222222222,
              "#7201a8"
             ],
             [
              0.3333333333333333,
              "#9c179e"
             ],
             [
              0.4444444444444444,
              "#bd3786"
             ],
             [
              0.5555555555555556,
              "#d8576b"
             ],
             [
              0.6666666666666666,
              "#ed7953"
             ],
             [
              0.7777777777777778,
              "#fb9f3a"
             ],
             [
              0.8888888888888888,
              "#fdca26"
             ],
             [
              1,
              "#f0f921"
             ]
            ],
            "type": "heatmap"
           }
          ],
          "heatmapgl": [
           {
            "colorbar": {
             "outlinewidth": 0,
             "ticks": ""
            },
            "colorscale": [
             [
              0,
              "#0d0887"
             ],
             [
              0.1111111111111111,
              "#46039f"
             ],
             [
              0.2222222222222222,
              "#7201a8"
             ],
             [
              0.3333333333333333,
              "#9c179e"
             ],
             [
              0.4444444444444444,
              "#bd3786"
             ],
             [
              0.5555555555555556,
              "#d8576b"
             ],
             [
              0.6666666666666666,
              "#ed7953"
             ],
             [
              0.7777777777777778,
              "#fb9f3a"
             ],
             [
              0.8888888888888888,
              "#fdca26"
             ],
             [
              1,
              "#f0f921"
             ]
            ],
            "type": "heatmapgl"
           }
          ],
          "histogram": [
           {
            "marker": {
             "pattern": {
              "fillmode": "overlay",
              "size": 10,
              "solidity": 0.2
             }
            },
            "type": "histogram"
           }
          ],
          "histogram2d": [
           {
            "colorbar": {
             "outlinewidth": 0,
             "ticks": ""
            },
            "colorscale": [
             [
              0,
              "#0d0887"
             ],
             [
              0.1111111111111111,
              "#46039f"
             ],
             [
              0.2222222222222222,
              "#7201a8"
             ],
             [
              0.3333333333333333,
              "#9c179e"
             ],
             [
              0.4444444444444444,
              "#bd3786"
             ],
             [
              0.5555555555555556,
              "#d8576b"
             ],
             [
              0.6666666666666666,
              "#ed7953"
             ],
             [
              0.7777777777777778,
              "#fb9f3a"
             ],
             [
              0.8888888888888888,
              "#fdca26"
             ],
             [
              1,
              "#f0f921"
             ]
            ],
            "type": "histogram2d"
           }
          ],
          "histogram2dcontour": [
           {
            "colorbar": {
             "outlinewidth": 0,
             "ticks": ""
            },
            "colorscale": [
             [
              0,
              "#0d0887"
             ],
             [
              0.1111111111111111,
              "#46039f"
             ],
             [
              0.2222222222222222,
              "#7201a8"
             ],
             [
              0.3333333333333333,
              "#9c179e"
             ],
             [
              0.4444444444444444,
              "#bd3786"
             ],
             [
              0.5555555555555556,
              "#d8576b"
             ],
             [
              0.6666666666666666,
              "#ed7953"
             ],
             [
              0.7777777777777778,
              "#fb9f3a"
             ],
             [
              0.8888888888888888,
              "#fdca26"
             ],
             [
              1,
              "#f0f921"
             ]
            ],
            "type": "histogram2dcontour"
           }
          ],
          "mesh3d": [
           {
            "colorbar": {
             "outlinewidth": 0,
             "ticks": ""
            },
            "type": "mesh3d"
           }
          ],
          "parcoords": [
           {
            "line": {
             "colorbar": {
              "outlinewidth": 0,
              "ticks": ""
             }
            },
            "type": "parcoords"
           }
          ],
          "pie": [
           {
            "automargin": true,
            "type": "pie"
           }
          ],
          "scatter": [
           {
            "fillpattern": {
             "fillmode": "overlay",
             "size": 10,
             "solidity": 0.2
            },
            "type": "scatter"
           }
          ],
          "scatter3d": [
           {
            "line": {
             "colorbar": {
              "outlinewidth": 0,
              "ticks": ""
             }
            },
            "marker": {
             "colorbar": {
              "outlinewidth": 0,
              "ticks": ""
             }
            },
            "type": "scatter3d"
           }
          ],
          "scattercarpet": [
           {
            "marker": {
             "colorbar": {
              "outlinewidth": 0,
              "ticks": ""
             }
            },
            "type": "scattercarpet"
           }
          ],
          "scattergeo": [
           {
            "marker": {
             "colorbar": {
              "outlinewidth": 0,
              "ticks": ""
             }
            },
            "type": "scattergeo"
           }
          ],
          "scattergl": [
           {
            "marker": {
             "colorbar": {
              "outlinewidth": 0,
              "ticks": ""
             }
            },
            "type": "scattergl"
           }
          ],
          "scattermapbox": [
           {
            "marker": {
             "colorbar": {
              "outlinewidth": 0,
              "ticks": ""
             }
            },
            "type": "scattermapbox"
           }
          ],
          "scatterpolar": [
           {
            "marker": {
             "colorbar": {
              "outlinewidth": 0,
              "ticks": ""
             }
            },
            "type": "scatterpolar"
           }
          ],
          "scatterpolargl": [
           {
            "marker": {
             "colorbar": {
              "outlinewidth": 0,
              "ticks": ""
             }
            },
            "type": "scatterpolargl"
           }
          ],
          "scatterternary": [
           {
            "marker": {
             "colorbar": {
              "outlinewidth": 0,
              "ticks": ""
             }
            },
            "type": "scatterternary"
           }
          ],
          "surface": [
           {
            "colorbar": {
             "outlinewidth": 0,
             "ticks": ""
            },
            "colorscale": [
             [
              0,
              "#0d0887"
             ],
             [
              0.1111111111111111,
              "#46039f"
             ],
             [
              0.2222222222222222,
              "#7201a8"
             ],
             [
              0.3333333333333333,
              "#9c179e"
             ],
             [
              0.4444444444444444,
              "#bd3786"
             ],
             [
              0.5555555555555556,
              "#d8576b"
             ],
             [
              0.6666666666666666,
              "#ed7953"
             ],
             [
              0.7777777777777778,
              "#fb9f3a"
             ],
             [
              0.8888888888888888,
              "#fdca26"
             ],
             [
              1,
              "#f0f921"
             ]
            ],
            "type": "surface"
           }
          ],
          "table": [
           {
            "cells": {
             "fill": {
              "color": "#EBF0F8"
             },
             "line": {
              "color": "white"
             }
            },
            "header": {
             "fill": {
              "color": "#C8D4E3"
             },
             "line": {
              "color": "white"
             }
            },
            "type": "table"
           }
          ]
         },
         "layout": {
          "annotationdefaults": {
           "arrowcolor": "#2a3f5f",
           "arrowhead": 0,
           "arrowwidth": 1
          },
          "autotypenumbers": "strict",
          "coloraxis": {
           "colorbar": {
            "outlinewidth": 0,
            "ticks": ""
           }
          },
          "colorscale": {
           "diverging": [
            [
             0,
             "#8e0152"
            ],
            [
             0.1,
             "#c51b7d"
            ],
            [
             0.2,
             "#de77ae"
            ],
            [
             0.3,
             "#f1b6da"
            ],
            [
             0.4,
             "#fde0ef"
            ],
            [
             0.5,
             "#f7f7f7"
            ],
            [
             0.6,
             "#e6f5d0"
            ],
            [
             0.7,
             "#b8e186"
            ],
            [
             0.8,
             "#7fbc41"
            ],
            [
             0.9,
             "#4d9221"
            ],
            [
             1,
             "#276419"
            ]
           ],
           "sequential": [
            [
             0,
             "#0d0887"
            ],
            [
             0.1111111111111111,
             "#46039f"
            ],
            [
             0.2222222222222222,
             "#7201a8"
            ],
            [
             0.3333333333333333,
             "#9c179e"
            ],
            [
             0.4444444444444444,
             "#bd3786"
            ],
            [
             0.5555555555555556,
             "#d8576b"
            ],
            [
             0.6666666666666666,
             "#ed7953"
            ],
            [
             0.7777777777777778,
             "#fb9f3a"
            ],
            [
             0.8888888888888888,
             "#fdca26"
            ],
            [
             1,
             "#f0f921"
            ]
           ],
           "sequentialminus": [
            [
             0,
             "#0d0887"
            ],
            [
             0.1111111111111111,
             "#46039f"
            ],
            [
             0.2222222222222222,
             "#7201a8"
            ],
            [
             0.3333333333333333,
             "#9c179e"
            ],
            [
             0.4444444444444444,
             "#bd3786"
            ],
            [
             0.5555555555555556,
             "#d8576b"
            ],
            [
             0.6666666666666666,
             "#ed7953"
            ],
            [
             0.7777777777777778,
             "#fb9f3a"
            ],
            [
             0.8888888888888888,
             "#fdca26"
            ],
            [
             1,
             "#f0f921"
            ]
           ]
          },
          "colorway": [
           "#636efa",
           "#EF553B",
           "#00cc96",
           "#ab63fa",
           "#FFA15A",
           "#19d3f3",
           "#FF6692",
           "#B6E880",
           "#FF97FF",
           "#FECB52"
          ],
          "font": {
           "color": "#2a3f5f"
          },
          "geo": {
           "bgcolor": "white",
           "lakecolor": "white",
           "landcolor": "#E5ECF6",
           "showlakes": true,
           "showland": true,
           "subunitcolor": "white"
          },
          "hoverlabel": {
           "align": "left"
          },
          "hovermode": "closest",
          "mapbox": {
           "style": "light"
          },
          "paper_bgcolor": "white",
          "plot_bgcolor": "#E5ECF6",
          "polar": {
           "angularaxis": {
            "gridcolor": "white",
            "linecolor": "white",
            "ticks": ""
           },
           "bgcolor": "#E5ECF6",
           "radialaxis": {
            "gridcolor": "white",
            "linecolor": "white",
            "ticks": ""
           }
          },
          "scene": {
           "xaxis": {
            "backgroundcolor": "#E5ECF6",
            "gridcolor": "white",
            "gridwidth": 2,
            "linecolor": "white",
            "showbackground": true,
            "ticks": "",
            "zerolinecolor": "white"
           },
           "yaxis": {
            "backgroundcolor": "#E5ECF6",
            "gridcolor": "white",
            "gridwidth": 2,
            "linecolor": "white",
            "showbackground": true,
            "ticks": "",
            "zerolinecolor": "white"
           },
           "zaxis": {
            "backgroundcolor": "#E5ECF6",
            "gridcolor": "white",
            "gridwidth": 2,
            "linecolor": "white",
            "showbackground": true,
            "ticks": "",
            "zerolinecolor": "white"
           }
          },
          "shapedefaults": {
           "line": {
            "color": "#2a3f5f"
           }
          },
          "ternary": {
           "aaxis": {
            "gridcolor": "white",
            "linecolor": "white",
            "ticks": ""
           },
           "baxis": {
            "gridcolor": "white",
            "linecolor": "white",
            "ticks": ""
           },
           "bgcolor": "#E5ECF6",
           "caxis": {
            "gridcolor": "white",
            "linecolor": "white",
            "ticks": ""
           }
          },
          "title": {
           "x": 0.05
          },
          "xaxis": {
           "automargin": true,
           "gridcolor": "white",
           "linecolor": "white",
           "ticks": "",
           "title": {
            "standoff": 15
           },
           "zerolinecolor": "white",
           "zerolinewidth": 2
          },
          "yaxis": {
           "automargin": true,
           "gridcolor": "white",
           "linecolor": "white",
           "ticks": "",
           "title": {
            "standoff": 15
           },
           "zerolinecolor": "white",
           "zerolinewidth": 2
          }
         }
        },
        "title": {
         "text": "Discount usage by gender (interactive)"
        },
        "xaxis": {
         "anchor": "y",
         "domain": [
          0,
          1
         ],
         "title": {
          "text": "gender"
         }
        },
        "yaxis": {
         "anchor": "x",
         "domain": [
          0,
          1
         ],
         "title": {
          "text": "Number of Customers"
         }
        }
       }
      }
     },
     "metadata": {},
     "output_type": "display_data"
    }
   ],
   "source": [
    "h2_plot_data = df_cleaned.groupby(['gender', 'discount_applied']).size().reset_index(name='count')\n",
    "\n",
    "# Create Plotly bar chart\n",
    "fig = px.bar(\n",
    "    h2_plot_data,\n",
    "    x=\"gender\",\n",
    "    y=\"count\",\n",
    "    color=\"discount_applied\",\n",
    "    barmode=\"group\",\n",
    "    title=\"Discount usage by gender (interactive)\",\n",
    "    labels={\"discount_applied\": \"Discount Applied\", \"count\": \"Number of Customers\"}\n",
    ")\n",
    "\n",
    "# Show the figure\n",
    "fig.show()"
   ]
  },
  {
   "cell_type": "markdown",
   "id": "56746946",
   "metadata": {},
   "source": [
    "* Discount usage by gender (H2) highlights gender differences in using discounts."
   ]
  },
  {
   "cell_type": "markdown",
   "id": "d362d143",
   "metadata": {},
   "source": [
    "3. **H3: Purchase amount by discount usage**"
   ]
  },
  {
   "cell_type": "code",
   "execution_count": 38,
   "id": "a3025c84",
   "metadata": {},
   "outputs": [
    {
     "data": {
      "image/png": "[encoded data removed]",
      "text/plain": [
       "<Figure size 800x600 with 1 Axes>"
      ]
     },
     "metadata": {},
     "output_type": "display_data"
    }
   ],
   "source": [
    "plt.figure(figsize=(8, 6))\n",
    "sns.boxplot(data=df_cleaned, x='discount_applied', y='purchase_amount_(usd)', hue='discount_applied', palette='Set2', legend=False)\n",
    "plt.title(\"Purchase amount by discount usage\")\n",
    "plt.xlabel(\"Discount Applied\")\n",
    "plt.ylabel(\"Purchase Amount (USD)\")\n",
    "plt.tight_layout()\n",
    "plt.show()"
   ]
  },
  {
   "cell_type": "markdown",
   "id": "56e9f8c8",
   "metadata": {},
   "source": [
    "* Purchase amount by discount usage (H3) uses a boxplot to compare spending behaviour with and without discounts.\n",
    "\n"
   ]
  },
  {
   "cell_type": "markdown",
   "id": "b3fdba8c",
   "metadata": {},
   "source": [
    "4. **H4: Promo Code Usage by Season**"
   ]
  },
  {
   "cell_type": "code",
   "execution_count": 37,
   "id": "e7cec91f",
   "metadata": {},
   "outputs": [
    {
     "data": {
      "image/png": "[encoded data removed]",
      "text/plain": [
       "<Figure size 800x600 with 1 Axes>"
      ]
     },
     "metadata": {},
     "output_type": "display_data"
    }
   ],
   "source": [
    "plt.figure(figsize=(8, 6))\n",
    "sns.countplot(data=df_cleaned, x='season', hue='promo_code_used', palette='coolwarm')\n",
    "plt.title(\"Promo Code Usage by Season\")\n",
    "plt.xlabel(\"Season\")\n",
    "plt.ylabel(\"Count\")\n",
    "plt.legend(title=\"Promo Code Used\")\n",
    "plt.tight_layout()\n",
    "plt.show()"
   ]
  },
  {
   "cell_type": "markdown",
   "id": "dcd51ead",
   "metadata": {},
   "source": [
    "* Promo code usage by season (H4) helps identify seasonal patterns in promo code usage."
   ]
  },
  {
   "cell_type": "code",
   "execution_count": null,
   "id": "8ed0fce7",
   "metadata": {},
   "outputs": [],
   "source": []
  }
 ],
 "metadata": {
  "kernelspec": {
   "display_name": ".venv",
   "language": "python",
   "name": "python3"
  },
  "language_info": {
   "codemirror_mode": {
    "name": "ipython",
    "version": 3
   },
   "file_extension": ".py",
   "mimetype": "text/x-python",
   "name": "python",
   "nbconvert_exporter": "python",
   "pygments_lexer": "ipython3",
   "version": "3.12.8"
  }
 },
 "nbformat": 4,
 "nbformat_minor": 5
}
