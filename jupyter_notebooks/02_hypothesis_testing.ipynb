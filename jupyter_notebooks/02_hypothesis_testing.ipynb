{
 "cells": [
  {
   "cell_type": "markdown",
   "id": "dcd5b2fd",
   "metadata": {},
   "source": [
    "# **Hypothesis testing**"
   ]
  },
  {
   "cell_type": "markdown",
   "id": "ccd53cd2",
   "metadata": {},
   "source": [
    "## Business goals: promotion response\n",
    "\n",
    "* Which segments are more likely to respond to promotional events (i.e., use promo codes or discounts)?\n",
    "\n",
    "* What customer attributes correlate with higher spending during promotions?\n",
    "\n",
    "\n"
   ]
  },
  {
   "cell_type": "markdown",
   "id": "c1ebe6c6",
   "metadata": {},
   "source": [
    "# **Core statistical concepts in data analysis**"
   ]
  },
  {
   "cell_type": "markdown",
   "id": "e827f6bc",
   "metadata": {},
   "source": [
    "Use of LMS and ChatGPT to provide below definitions: \n",
    "\n",
    "* Mean is the arithmetic average of a dataset, calculated by summing all values and dividing by the number of observations.\n",
    "\n",
    "* Median is the middle value of an ordered dataset. Particularly good at identifying skewed data or outliers.\n",
    "\n",
    "* Standard deviation measures the spread of data points from the mean.\n",
    "\n",
    "* Hypothesis testing is a statistical method used to evaluate assumptions (hypotheses) about a population using sample data. It involves calculating the p-value to determine if observed results are statistically significant or could have occurred by chance.\n",
    "\n",
    "* Basic probability provides a framework for quantifying the likelihood of outcomes and managing uncertainty in data analysis.\n",
    "\n",
    "Together, these concepts are essential tools for extracting insights, identifying patterns and drawing reliable conclusions that support informed, data-driven decisions.\n"
   ]
  },
  {
   "cell_type": "markdown",
   "id": "f20c1370",
   "metadata": {},
   "source": [
    "* Import Pandas and Numpy libraries."
   ]
  },
  {
   "cell_type": "code",
   "execution_count": 2,
   "id": "bcdf3c87",
   "metadata": {},
   "outputs": [],
   "source": [
    "import pandas as pd\n",
    "import numpy as np"
   ]
  },
  {
   "cell_type": "markdown",
   "id": "9a3dbfa5",
   "metadata": {},
   "source": [
    "* Read csv file and convert into a DataFrame using function 'pd.read_csv()'."
   ]
  },
  {
   "cell_type": "code",
   "execution_count": 3,
   "id": "2f3887af",
   "metadata": {},
   "outputs": [
    {
     "data": {
      "text/html": [
       "<div>\n",
       "<style scoped>\n",
       "    .dataframe tbody tr th:only-of-type {\n",
       "        vertical-align: middle;\n",
       "    }\n",
       "\n",
       "    .dataframe tbody tr th {\n",
       "        vertical-align: top;\n",
       "    }\n",
       "\n",
       "    .dataframe thead th {\n",
       "        text-align: right;\n",
       "    }\n",
       "</style>\n",
       "<table border=\"1\" class=\"dataframe\">\n",
       "  <thead>\n",
       "    <tr style=\"text-align: right;\">\n",
       "      <th></th>\n",
       "      <th>age</th>\n",
       "      <th>age_group</th>\n",
       "      <th>gender</th>\n",
       "      <th>item_purchased</th>\n",
       "      <th>category</th>\n",
       "      <th>purchase_amount_(usd)</th>\n",
       "      <th>location</th>\n",
       "      <th>colour</th>\n",
       "      <th>season</th>\n",
       "      <th>review_rating</th>\n",
       "      <th>subscription_status</th>\n",
       "      <th>shipping_type</th>\n",
       "      <th>discount_applied</th>\n",
       "      <th>promo_code_used</th>\n",
       "      <th>previous_purchases</th>\n",
       "      <th>payment_method</th>\n",
       "      <th>frequency_of_purchases</th>\n",
       "    </tr>\n",
       "  </thead>\n",
       "  <tbody>\n",
       "    <tr>\n",
       "      <th>0</th>\n",
       "      <td>55</td>\n",
       "      <td>Pre-Retirement</td>\n",
       "      <td>Male</td>\n",
       "      <td>Blouse</td>\n",
       "      <td>Clothing</td>\n",
       "      <td>53</td>\n",
       "      <td>Kentucky</td>\n",
       "      <td>Gray</td>\n",
       "      <td>Winter</td>\n",
       "      <td>3.1</td>\n",
       "      <td>Yes</td>\n",
       "      <td>Express</td>\n",
       "      <td>Yes</td>\n",
       "      <td>Yes</td>\n",
       "      <td>14</td>\n",
       "      <td>Venmo</td>\n",
       "      <td>Bi-Weekly</td>\n",
       "    </tr>\n",
       "    <tr>\n",
       "      <th>1</th>\n",
       "      <td>19</td>\n",
       "      <td>Gen Z</td>\n",
       "      <td>Male</td>\n",
       "      <td>Sweater</td>\n",
       "      <td>Clothing</td>\n",
       "      <td>64</td>\n",
       "      <td>Maine</td>\n",
       "      <td>Maroon</td>\n",
       "      <td>Winter</td>\n",
       "      <td>3.1</td>\n",
       "      <td>Yes</td>\n",
       "      <td>Express</td>\n",
       "      <td>Yes</td>\n",
       "      <td>Yes</td>\n",
       "      <td>2</td>\n",
       "      <td>Cash</td>\n",
       "      <td>Bi-Weekly</td>\n",
       "    </tr>\n",
       "    <tr>\n",
       "      <th>2</th>\n",
       "      <td>50</td>\n",
       "      <td>Gen X Late</td>\n",
       "      <td>Male</td>\n",
       "      <td>Jeans</td>\n",
       "      <td>Clothing</td>\n",
       "      <td>73</td>\n",
       "      <td>Massachusetts</td>\n",
       "      <td>Maroon</td>\n",
       "      <td>Spring</td>\n",
       "      <td>3.1</td>\n",
       "      <td>Yes</td>\n",
       "      <td>Free Shipping</td>\n",
       "      <td>Yes</td>\n",
       "      <td>Yes</td>\n",
       "      <td>23</td>\n",
       "      <td>Credit Card</td>\n",
       "      <td>Weekly</td>\n",
       "    </tr>\n",
       "    <tr>\n",
       "      <th>3</th>\n",
       "      <td>21</td>\n",
       "      <td>Gen Z</td>\n",
       "      <td>Male</td>\n",
       "      <td>Sandals</td>\n",
       "      <td>Footwear</td>\n",
       "      <td>90</td>\n",
       "      <td>Rhode Island</td>\n",
       "      <td>Maroon</td>\n",
       "      <td>Spring</td>\n",
       "      <td>3.5</td>\n",
       "      <td>Yes</td>\n",
       "      <td>Next Day Air</td>\n",
       "      <td>Yes</td>\n",
       "      <td>Yes</td>\n",
       "      <td>49</td>\n",
       "      <td>PayPal</td>\n",
       "      <td>Weekly</td>\n",
       "    </tr>\n",
       "    <tr>\n",
       "      <th>4</th>\n",
       "      <td>45</td>\n",
       "      <td>Gen X Late</td>\n",
       "      <td>Male</td>\n",
       "      <td>Blouse</td>\n",
       "      <td>Clothing</td>\n",
       "      <td>49</td>\n",
       "      <td>Oregon</td>\n",
       "      <td>Turquoise</td>\n",
       "      <td>Spring</td>\n",
       "      <td>2.7</td>\n",
       "      <td>Yes</td>\n",
       "      <td>Free Shipping</td>\n",
       "      <td>Yes</td>\n",
       "      <td>Yes</td>\n",
       "      <td>31</td>\n",
       "      <td>PayPal</td>\n",
       "      <td>Annually</td>\n",
       "    </tr>\n",
       "    <tr>\n",
       "      <th>...</th>\n",
       "      <td>...</td>\n",
       "      <td>...</td>\n",
       "      <td>...</td>\n",
       "      <td>...</td>\n",
       "      <td>...</td>\n",
       "      <td>...</td>\n",
       "      <td>...</td>\n",
       "      <td>...</td>\n",
       "      <td>...</td>\n",
       "      <td>...</td>\n",
       "      <td>...</td>\n",
       "      <td>...</td>\n",
       "      <td>...</td>\n",
       "      <td>...</td>\n",
       "      <td>...</td>\n",
       "      <td>...</td>\n",
       "      <td>...</td>\n",
       "    </tr>\n",
       "    <tr>\n",
       "      <th>3895</th>\n",
       "      <td>40</td>\n",
       "      <td>Gen X Early</td>\n",
       "      <td>Female</td>\n",
       "      <td>Hoodie</td>\n",
       "      <td>Clothing</td>\n",
       "      <td>28</td>\n",
       "      <td>Virginia</td>\n",
       "      <td>Turquoise</td>\n",
       "      <td>Summer</td>\n",
       "      <td>4.2</td>\n",
       "      <td>No</td>\n",
       "      <td>2-Day Shipping</td>\n",
       "      <td>No</td>\n",
       "      <td>No</td>\n",
       "      <td>32</td>\n",
       "      <td>Venmo</td>\n",
       "      <td>Weekly</td>\n",
       "    </tr>\n",
       "    <tr>\n",
       "      <th>3896</th>\n",
       "      <td>52</td>\n",
       "      <td>Gen X Late</td>\n",
       "      <td>Female</td>\n",
       "      <td>Backpack</td>\n",
       "      <td>Accessories</td>\n",
       "      <td>49</td>\n",
       "      <td>Iowa</td>\n",
       "      <td>White</td>\n",
       "      <td>Spring</td>\n",
       "      <td>4.5</td>\n",
       "      <td>No</td>\n",
       "      <td>Store Pickup</td>\n",
       "      <td>No</td>\n",
       "      <td>No</td>\n",
       "      <td>41</td>\n",
       "      <td>Bank Transfer</td>\n",
       "      <td>Bi-Weekly</td>\n",
       "    </tr>\n",
       "    <tr>\n",
       "      <th>3897</th>\n",
       "      <td>46</td>\n",
       "      <td>Gen X Late</td>\n",
       "      <td>Female</td>\n",
       "      <td>Belt</td>\n",
       "      <td>Accessories</td>\n",
       "      <td>33</td>\n",
       "      <td>New Jersey</td>\n",
       "      <td>Green</td>\n",
       "      <td>Spring</td>\n",
       "      <td>2.9</td>\n",
       "      <td>No</td>\n",
       "      <td>Standard</td>\n",
       "      <td>No</td>\n",
       "      <td>No</td>\n",
       "      <td>24</td>\n",
       "      <td>Venmo</td>\n",
       "      <td>Quarterly</td>\n",
       "    </tr>\n",
       "    <tr>\n",
       "      <th>3898</th>\n",
       "      <td>44</td>\n",
       "      <td>Gen X Early</td>\n",
       "      <td>Female</td>\n",
       "      <td>Shoes</td>\n",
       "      <td>Footwear</td>\n",
       "      <td>77</td>\n",
       "      <td>Minnesota</td>\n",
       "      <td>Brown</td>\n",
       "      <td>Summer</td>\n",
       "      <td>3.8</td>\n",
       "      <td>No</td>\n",
       "      <td>Express</td>\n",
       "      <td>No</td>\n",
       "      <td>No</td>\n",
       "      <td>24</td>\n",
       "      <td>Venmo</td>\n",
       "      <td>Weekly</td>\n",
       "    </tr>\n",
       "    <tr>\n",
       "      <th>3899</th>\n",
       "      <td>52</td>\n",
       "      <td>Gen X Late</td>\n",
       "      <td>Female</td>\n",
       "      <td>Handbag</td>\n",
       "      <td>Accessories</td>\n",
       "      <td>81</td>\n",
       "      <td>California</td>\n",
       "      <td>Beige</td>\n",
       "      <td>Spring</td>\n",
       "      <td>3.1</td>\n",
       "      <td>No</td>\n",
       "      <td>Store Pickup</td>\n",
       "      <td>No</td>\n",
       "      <td>No</td>\n",
       "      <td>33</td>\n",
       "      <td>Venmo</td>\n",
       "      <td>Quarterly</td>\n",
       "    </tr>\n",
       "  </tbody>\n",
       "</table>\n",
       "<p>3900 rows × 17 columns</p>\n",
       "</div>"
      ],
      "text/plain": [
       "      age       age_group  gender item_purchased     category  \\\n",
       "0      55  Pre-Retirement    Male         Blouse     Clothing   \n",
       "1      19           Gen Z    Male        Sweater     Clothing   \n",
       "2      50      Gen X Late    Male          Jeans     Clothing   \n",
       "3      21           Gen Z    Male        Sandals     Footwear   \n",
       "4      45      Gen X Late    Male         Blouse     Clothing   \n",
       "...   ...             ...     ...            ...          ...   \n",
       "3895   40     Gen X Early  Female         Hoodie     Clothing   \n",
       "3896   52      Gen X Late  Female       Backpack  Accessories   \n",
       "3897   46      Gen X Late  Female           Belt  Accessories   \n",
       "3898   44     Gen X Early  Female          Shoes     Footwear   \n",
       "3899   52      Gen X Late  Female        Handbag  Accessories   \n",
       "\n",
       "      purchase_amount_(usd)       location     colour  season  review_rating  \\\n",
       "0                        53       Kentucky       Gray  Winter            3.1   \n",
       "1                        64          Maine     Maroon  Winter            3.1   \n",
       "2                        73  Massachusetts     Maroon  Spring            3.1   \n",
       "3                        90   Rhode Island     Maroon  Spring            3.5   \n",
       "4                        49         Oregon  Turquoise  Spring            2.7   \n",
       "...                     ...            ...        ...     ...            ...   \n",
       "3895                     28       Virginia  Turquoise  Summer            4.2   \n",
       "3896                     49           Iowa      White  Spring            4.5   \n",
       "3897                     33     New Jersey      Green  Spring            2.9   \n",
       "3898                     77      Minnesota      Brown  Summer            3.8   \n",
       "3899                     81     California      Beige  Spring            3.1   \n",
       "\n",
       "     subscription_status   shipping_type discount_applied promo_code_used  \\\n",
       "0                    Yes         Express              Yes             Yes   \n",
       "1                    Yes         Express              Yes             Yes   \n",
       "2                    Yes   Free Shipping              Yes             Yes   \n",
       "3                    Yes    Next Day Air              Yes             Yes   \n",
       "4                    Yes   Free Shipping              Yes             Yes   \n",
       "...                  ...             ...              ...             ...   \n",
       "3895                  No  2-Day Shipping               No              No   \n",
       "3896                  No    Store Pickup               No              No   \n",
       "3897                  No        Standard               No              No   \n",
       "3898                  No         Express               No              No   \n",
       "3899                  No    Store Pickup               No              No   \n",
       "\n",
       "      previous_purchases payment_method frequency_of_purchases  \n",
       "0                     14          Venmo              Bi-Weekly  \n",
       "1                      2           Cash              Bi-Weekly  \n",
       "2                     23    Credit Card                 Weekly  \n",
       "3                     49         PayPal                 Weekly  \n",
       "4                     31         PayPal               Annually  \n",
       "...                  ...            ...                    ...  \n",
       "3895                  32          Venmo                 Weekly  \n",
       "3896                  41  Bank Transfer              Bi-Weekly  \n",
       "3897                  24          Venmo              Quarterly  \n",
       "3898                  24          Venmo                 Weekly  \n",
       "3899                  33          Venmo              Quarterly  \n",
       "\n",
       "[3900 rows x 17 columns]"
      ]
     },
     "execution_count": 3,
     "metadata": {},
     "output_type": "execute_result"
    }
   ],
   "source": [
    "import pandas as pd\n",
    "df_cleaned = pd.read_csv('../jupyter_notebooks/final/cleaned_shopping_trends_and_customer_behaviour_dataset.csv') \n",
    "df_cleaned"
   ]
  },
  {
   "cell_type": "markdown",
   "id": "e7ef23ad",
   "metadata": {},
   "source": [
    "# **Statistical tests**"
   ]
  },
  {
   "cell_type": "markdown",
   "id": "f95dfa95",
   "metadata": {},
   "source": [
    "* ChatGPT was used to generate below hypothesis and the code to run the statistical calculation."
   ]
  },
  {
   "cell_type": "markdown",
   "id": "a1281d0f",
   "metadata": {},
   "source": [
    "**H1: Younger customer groups use promo codes more often than older groups.**\n",
    "\n",
    "* H₀ (**Null hypothesis**):\n",
    "There is no difference in promo code usage between younger and older customer groups.\n",
    "\n",
    "* H₁ (**Alternative hypothesis**):\n",
    "Younger customer groups use promo codes more often than older groups.\n",
    "\n",
    "\n",
    "**H2: Female customers are more likely to use discounts than male customers.**\n",
    "\n",
    "* H₀ (**Null hypothesis**):\n",
    "There is no difference in discount usage between female and male customers.\n",
    "\n",
    "* H₁ (**Alternative hypothesis**):\n",
    "Female customers are more likely to use discounts than male customers.\n",
    "\n",
    "**H3: Customers who use discounts tend to spend more per purchase.**\n",
    "\n",
    "* H₀ (**Null hypothesis**):\n",
    "Customers who use discounts and those who don’t have the same average purchase amount.\n",
    "\n",
    "* H₁ (**Alternative hypothesis**):\n",
    "Customers who use discounts have a higher average purchase amount per transaction.\n",
    "\n",
    "**H4: Season affects promotion response (e.g., more promo code use during Winter sales).**\n",
    "\n",
    "* H₀ (**Null hypothesis**):\n",
    "Promotion response is the same across all seasons — season has no effect.\n",
    "\n",
    "* H₁ (**Alternative hypothesis**):\n",
    "Promotion response varies by season; season does affect promo code use.\n"
   ]
  },
  {
   "cell_type": "code",
   "execution_count": 1,
   "id": "2859ba9d",
   "metadata": {},
   "outputs": [],
   "source": [
    "# import scipy library to initiate statistical analysis and hypothesis testing\n",
    "import scipy.stats as stats"
   ]
  },
  {
   "cell_type": "markdown",
   "id": "d6b342c4",
   "metadata": {},
   "source": [
    "**1.  H1: Younger customer groups use promo codes more often than older groups.**"
   ]
  },
  {
   "cell_type": "markdown",
   "id": "313464da",
   "metadata": {},
   "source": [
    "* H₀ (**Null hypothesis**):\n",
    "There is no difference in promo code usage between younger and older customer groups.\n",
    "\n",
    "* H₁ (**Alternative hypothesis**):\n",
    "Younger customer groups use promo codes more often than older groups."
   ]
  },
  {
   "cell_type": "code",
   "execution_count": null,
   "id": "79d1f834",
   "metadata": {},
   "outputs": [
    {
     "name": "stdout",
     "output_type": "stream",
     "text": [
      "H1 - Age Group vs Promo Code Usage:\n",
      "Chi² Stat: 1.0887155051993171\n",
      "p-value: 0.9550976431155631\n",
      "Significant: False\n",
      "\n",
      "\n"
     ]
    }
   ],
   "source": [
    "# Clean and preprocess columns\n",
    "\n",
    "# .str.strip() removes any leading or trailing spaces (e.g., \" Yes \" becomes \"Yes\").\n",
    "# .str.lower() converts the entire string to lowercase (e.g., \"Yes\" becomes \"yes\").\n",
    "\n",
    "df_cleaned['promo_code_used'] = df_cleaned['promo_code_used'].str.strip().str.lower()\n",
    "\n",
    "# pd.crosstab() creates a contingency table that shows the frequency counts of \n",
    "# promo code usage (yes/no) across different age groups.\n",
    "# stats.chi2_contingency() performs the Chi-squared test of independence on the\n",
    "# contingency table created above.\n",
    "# The two underscores _, _ represent expected frequencies and degrees of freedom,\n",
    "# which are not needed here but are returned by default.\n",
    "h1_table = pd.crosstab(df_cleaned['age_group'], df_cleaned['promo_code_used'])\n",
    "h1_chi2, h1_p, _, _ = stats.chi2_contingency(h1_table)\n",
    "\n",
    "# Display results\n",
    "print(\"H1 - Age Group vs Promo Code Usage:\")\n",
    "print(\"Chi² Stat:\", h1_chi2)\n",
    "print(\"p-value:\", h1_p)\n",
    "print(\"Significant:\", h1_p < 0.05)\n",
    "print(\"\\n\")\n",
    "# print(\"\\n\") creates a blank line in the output."
   ]
  },
  {
   "cell_type": "markdown",
   "id": "b46a3657",
   "metadata": {},
   "source": [
    "**Outcome**: non statistically significant. Accept the null hypothesis and reject the alternative hypothesis."
   ]
  },
  {
   "cell_type": "markdown",
   "id": "20a6acff",
   "metadata": {},
   "source": [
    "**Conclusion:**\n",
    "\n",
    "* There is no statistically significant association between age group and promo code usage. The p-value (0.955) is much greater than the typical threshold of 0.05, suggesting that any observed differences in promo code usage across age groups are likely due to chance.\n",
    "\n",
    "* This means the data does not support the hypothesis that younger customer groups use promo codes more frequently than older ones. "
   ]
  },
  {
   "cell_type": "markdown",
   "id": "cf51fa84",
   "metadata": {},
   "source": [
    "**2. H2: Female customers are more likely to use discounts than male customers.**"
   ]
  },
  {
   "cell_type": "markdown",
   "id": "1360b630",
   "metadata": {},
   "source": [
    "* H₀ (**Null hypothesis**):\n",
    "There is no difference in discount usage between female and male customers.\n",
    "\n",
    "* H₁ (**Alternative hypothesis**):\n",
    "Female customers are more likely to use discounts than male customers."
   ]
  },
  {
   "cell_type": "code",
   "execution_count": null,
   "id": "69161392",
   "metadata": {},
   "outputs": [
    {
     "name": "stdout",
     "output_type": "stream",
     "text": [
      "H2 - Gender vs Discount Usage:\n",
      "Chi² Stat: 1381.9413463923058\n",
      "p-value: 1.7645380691667684e-302\n",
      "Significant: True\n",
      "\n",
      "\n"
     ]
    }
   ],
   "source": [
    "# Clean and preprocess columns\n",
    "\n",
    "# .str.strip() removes any leading or trailing spaces (e.g., \" Yes \" becomes \"Yes\").\n",
    "# .str.lower() converts the entire string to lowercase (e.g., \"Yes\" becomes \"yes\").\n",
    "\n",
    "df_cleaned['discount_applied'] = df_cleaned['discount_applied'].str.strip().str.lower()\n",
    "\n",
    "# pd.crosstab() creates a contingency table that shows the frequency counts of \n",
    "# discount usage (yes/no) by gender.\n",
    "# stats.chi2_contingency() performs the Chi-squared test of independence on the\n",
    "# contingency table created above.\n",
    "# The two underscores _, _ represent expected frequencies and degrees of freedom,\n",
    "# which are not needed here but are returned by default.\n",
    "h2_table = pd.crosstab(df_cleaned['gender'], df_cleaned['discount_applied'])\n",
    "h2_chi2, h2_p, _, _ = stats.chi2_contingency(h2_table)\n",
    "\n",
    "# Display results\n",
    "print(\"H2 - Gender vs Discount Usage:\")\n",
    "print(\"Chi² Stat:\", h2_chi2)\n",
    "print(\"p-value:\", h2_p)\n",
    "print(\"Significant:\", h2_p < 0.05)\n",
    "print(\"\\n\")\n",
    "# print(\"\\n\") creates a blank line in the output."
   ]
  },
  {
   "cell_type": "markdown",
   "id": "bcf0e29a",
   "metadata": {},
   "source": [
    "**Outcome**: statistically significant. Reject the null hypothesis and accept the alternative hypothesis."
   ]
  },
  {
   "cell_type": "markdown",
   "id": "b7b48d87",
   "metadata": {},
   "source": [
    "**Conclusion:**\n",
    "\n",
    "* The result is statistically significant, with a very low p-value, indicating a strong association between gender and discount usage. However, the pattern contradicts the hypothesis: while the hypothesis stated that female customers are more likely to use discounts, the data shows that male customers are overwhelmingly more likely to apply discounts (1,677 males vs. 0 females).\n",
    "\n",
    "* This suggests either a data issue (e.g., missing or misclassified discount records for female customers) or a genuine trend in the dataset that should be further investigated. "
   ]
  },
  {
   "cell_type": "markdown",
   "id": "794db853",
   "metadata": {},
   "source": [
    "**3. H3: Customers who use discounts tend to spend more per purchase.**"
   ]
  },
  {
   "cell_type": "markdown",
   "id": "e65a9fee",
   "metadata": {},
   "source": [
    "* H₀ (**Null hypothesis**):\n",
    "Customers who use discounts and those who don’t have the same average purchase amount.\n",
    "\n",
    "* H₁ (**Alternative hypothesis**):\n",
    "Customers who use discounts have a higher average purchase amount per transaction."
   ]
  },
  {
   "cell_type": "code",
   "execution_count": null,
   "id": "23248d4a",
   "metadata": {},
   "outputs": [
    {
     "name": "stdout",
     "output_type": "stream",
     "text": [
      "H3 - Discount vs Spend:\n",
      "p-value: 0.26611244488939256\n",
      "t-Statistic: -1.1122316185807992\n",
      "Significant: False\n",
      "\n",
      "\n"
     ]
    }
   ],
   "source": [
    "# Clean and preprocess columns\n",
    "\n",
    "# .str.strip() removes any leading or trailing spaces.\n",
    "# .str.capitalize() ensures the first letter is uppercase and the rest are lowercase (e.g., \"male\" becomes \"Male\").\n",
    "\n",
    "df_cleaned['gender'] = df_cleaned['gender'].str.strip().str.capitalize()\n",
    "\n",
    "# group1: filters the dataset on customers who used a discount and extracts the corresponding purchase amount. It then stores the result in variable group1.\n",
    "# group2: filters the dataset on customers who did not use a discount and extracts the corresponding purchase amount. It then stores the result in variable group2.\n",
    "# performs an independent two-sample t-test using scipy.stats.ttest_ind() \n",
    "# to compare the average purchase amount between the two groups.\n",
    "# equal_var=False tells Python to use Welch’s t-test, which is better when the two groups might have unequal variances or unequal sample sizes.\n",
    "# h3_t: the t-statistic\n",
    "# h3_p: the p-value\n",
    "group1 = df_cleaned[df_cleaned['discount_applied'] == 'yes']['purchase_amount_(usd)']\n",
    "group2 = df_cleaned[df_cleaned['discount_applied'] == 'no']['purchase_amount_(usd)']\n",
    "h3_t, h3_p = stats.ttest_ind(group1, group2, equal_var=False)\n",
    "\n",
    "# Display results\n",
    "print(\"H3 - Discount vs Spend:\")\n",
    "print(\"p-value:\", h3_p)\n",
    "print(\"t-Statistic:\", h3_t)\n",
    "print(\"Significant:\", h3_p < 0.05)\n",
    "print(\"\\n\")\n",
    "# print(\"\\n\") creates a blank line in the output."
   ]
  },
  {
   "cell_type": "markdown",
   "id": "c2d6348e",
   "metadata": {},
   "source": [
    "**Outcome**: non statistically significant. Accept the null hypothesis and reject the alternative hypothesis."
   ]
  },
  {
   "cell_type": "markdown",
   "id": "ef75099e",
   "metadata": {},
   "source": [
    "* Mean Purchase (Discount = Yes): $59.28\n",
    "* Mean Purchase (Discount = No): $60.13"
   ]
  },
  {
   "cell_type": "markdown",
   "id": "cdf52136",
   "metadata": {},
   "source": [
    "**Conclusion:**\n",
    "\n",
    "* The difference in average spending between customers who used discounts versus those who did not is not statistically significant (p = 0.266 > 0.05).\n",
    "This means the data does not support the hypothesis that customers who use discounts tend to spend more per purchase. \n"
   ]
  },
  {
   "cell_type": "markdown",
   "id": "c923d0bb",
   "metadata": {},
   "source": [
    "**4. H4: Season affects promotion response (e.g., more promo code use during Winter sales).**"
   ]
  },
  {
   "cell_type": "markdown",
   "id": "9ccea7d0",
   "metadata": {},
   "source": [
    "* H₀ (**Null hypothesis**):\n",
    "Promotion response is the same across all seasons — season has no effect.\n",
    "\n",
    "* H₁ (**Alternative hypothesis**):\n",
    "Promotion response varies by season; season does affect promo code use."
   ]
  },
  {
   "cell_type": "code",
   "execution_count": 4,
   "id": "ce06594e",
   "metadata": {},
   "outputs": [
    {
     "name": "stdout",
     "output_type": "stream",
     "text": [
      "H4 - Season vs Promo Code Usage:\n",
      "Chi² Stat: 3.1687022338896487\n",
      "p-value: 0.3663388240993125\n",
      "Significant: False\n",
      "\n",
      "\n"
     ]
    }
   ],
   "source": [
    "# Clean and preprocess columns\n",
    "\n",
    "# .str.strip() removes any leading or trailing spaces.\n",
    "\n",
    "df_cleaned['age_group'] = df_cleaned['age_group'].str.strip()\n",
    "\n",
    "# pd.crosstab() creates a contingency table that shows the frequency counts of \n",
    "# promo code used (yes/no) by season.\n",
    "# stats.chi2_contingency() performs the Chi-squared test of independence on the\n",
    "# contingency table created above.\n",
    "# The two underscores _, _ represent expected frequencies and degrees of freedom,\n",
    "# which are not needed here but are returned by default.\n",
    "h4_table = pd.crosstab(df_cleaned['season'], df_cleaned['promo_code_used'])\n",
    "h4_chi2, h4_p, _, _ = stats.chi2_contingency(h4_table)\n",
    "\n",
    "# Display results\n",
    "print(\"H4 - Season vs Promo Code Usage:\")\n",
    "print(\"Chi² Stat:\", h4_chi2)\n",
    "print(\"p-value:\", h4_p)\n",
    "print(\"Significant:\", h4_p < 0.05)\n",
    "print(\"\\n\")\n",
    "# print(\"\\n\") creates a blank line in the output."
   ]
  },
  {
   "cell_type": "markdown",
   "id": "2cf0f646",
   "metadata": {},
   "source": [
    "**Outcome**: non statistically significant. Accept the null hypothesis and reject the alternative hypothesis."
   ]
  },
  {
   "cell_type": "markdown",
   "id": "7f306f92",
   "metadata": {},
   "source": [
    "**Conclusion:**\n",
    "\n",
    "* The data does not provide statistically significant evidence that promo code usage varies by season. The p-value (0.366) is greater than 0.05, meaning any observed differences in promotional response across seasons are likely due to random variation rather than a meaningful pattern. Therefore, the alternative hypothesis is not supported by the data.\n",
    "\n",
    "**Personal reflexion**: had this been in a real working environment, I would have questioned the integrity of the data. Across all seasons, count of promo code used (No) > count of promo code used (Yes). I was expecting the opposite in purchasing behaviour. Usually, promotional events drive an increase in sales.  \n",
    "\n",
    "* count of promo code used (No) = 2223\n",
    "* count of promo code used (Yes) = 1677"
   ]
  },
  {
   "cell_type": "markdown",
   "id": "e89abb8a",
   "metadata": {},
   "source": [
    "# **Visualisation for each hypothesis**"
   ]
  },
  {
   "cell_type": "markdown",
   "id": "49198837",
   "metadata": {},
   "source": [
    "* Import of Python data visualisation libraries"
   ]
  },
  {
   "cell_type": "code",
   "execution_count": 5,
   "id": "09f30f69",
   "metadata": {},
   "outputs": [],
   "source": [
    "import matplotlib.pyplot as plt"
   ]
  },
  {
   "cell_type": "code",
   "execution_count": null,
   "id": "73b23ddf",
   "metadata": {},
   "outputs": [],
   "source": [
    "import seaborn as sns\n",
    "sns.set(style=\"whitegrid\")\n",
    "# Sets the default Seaborn plot style.\n",
    "# \"whitegrid\" adds a clean white background with gridlines, which improves \n",
    "# readability for charts that display distributions or comparisons."
   ]
  },
  {
   "cell_type": "code",
   "execution_count": 7,
   "id": "1d2eb016",
   "metadata": {},
   "outputs": [],
   "source": [
    "import plotly.express as px"
   ]
  },
  {
   "cell_type": "markdown",
   "id": "a88be101",
   "metadata": {},
   "source": [
    "* Python code for visualisation was generated with the assistance of Chatgpt.\n",
    "* Chatgpt was also used to troubleshoot the errors I received initially on some of the graphs."
   ]
  },
  {
   "cell_type": "markdown",
   "id": "ff1dea29",
   "metadata": {},
   "source": [
    "**1.  H1: Younger customer groups use promo codes more often than older groups.**"
   ]
  },
  {
   "cell_type": "markdown",
   "id": "e2ebddd4",
   "metadata": {},
   "source": [
    "* Initially, when I tried to create my matplotlib graph, encountered an issue where I was alerted that matplotlib was not installed. Since I still encountered the issue despite installing it in the terminal, one of the SME Data coaches suggested to install by using notebook cell. Since the graph was still not generating, pushed through the changes to my Github account for the technical team to have another look. While this was happening, realised that I had not restarted the Kernel (an oversight on my part). After restarting the Kernel, graph generated as expected. "
   ]
  },
  {
   "cell_type": "code",
   "execution_count": 50,
   "id": "0e7a4947",
   "metadata": {},
   "outputs": [
    {
     "name": "stdout",
     "output_type": "stream",
     "text": [
      "Requirement already satisfied: matplotlib in c:\\users\\user\\onedrive\\documents\\vs code projects\\dev\\shopping-trends\\.venv\\lib\\site-packages (3.8.0)\n",
      "Requirement already satisfied: contourpy>=1.0.1 in c:\\users\\user\\onedrive\\documents\\vs code projects\\dev\\shopping-trends\\.venv\\lib\\site-packages (from matplotlib) (1.3.2)\n",
      "Requirement already satisfied: cycler>=0.10 in c:\\users\\user\\onedrive\\documents\\vs code projects\\dev\\shopping-trends\\.venv\\lib\\site-packages (from matplotlib) (0.12.1)\n",
      "Requirement already satisfied: fonttools>=4.22.0 in c:\\users\\user\\onedrive\\documents\\vs code projects\\dev\\shopping-trends\\.venv\\lib\\site-packages (from matplotlib) (4.58.5)\n",
      "Requirement already satisfied: kiwisolver>=1.0.1 in c:\\users\\user\\onedrive\\documents\\vs code projects\\dev\\shopping-trends\\.venv\\lib\\site-packages (from matplotlib) (1.4.8)\n",
      "Requirement already satisfied: numpy<2,>=1.21 in c:\\users\\user\\onedrive\\documents\\vs code projects\\dev\\shopping-trends\\.venv\\lib\\site-packages (from matplotlib) (1.26.1)\n",
      "Requirement already satisfied: packaging>=20.0 in c:\\users\\user\\onedrive\\documents\\vs code projects\\dev\\shopping-trends\\.venv\\lib\\site-packages (from matplotlib) (24.2)\n",
      "Requirement already satisfied: pillow>=6.2.0 in c:\\users\\user\\onedrive\\documents\\vs code projects\\dev\\shopping-trends\\.venv\\lib\\site-packages (from matplotlib) (10.0.1)\n",
      "Requirement already satisfied: pyparsing>=2.3.1 in c:\\users\\user\\onedrive\\documents\\vs code projects\\dev\\shopping-trends\\.venv\\lib\\site-packages (from matplotlib) (3.2.3)\n",
      "Requirement already satisfied: python-dateutil>=2.7 in c:\\users\\user\\onedrive\\documents\\vs code projects\\dev\\shopping-trends\\.venv\\lib\\site-packages (from matplotlib) (2.9.0.post0)\n",
      "Requirement already satisfied: six>=1.5 in c:\\users\\user\\onedrive\\documents\\vs code projects\\dev\\shopping-trends\\.venv\\lib\\site-packages (from python-dateutil>=2.7->matplotlib) (1.17.0)\n"
     ]
    },
    {
     "name": "stderr",
     "output_type": "stream",
     "text": [
      "\n",
      "[notice] A new release of pip is available: 24.3.1 -> 25.1.1\n",
      "[notice] To update, run: python.exe -m pip install --upgrade pip\n"
     ]
    }
   ],
   "source": [
    "!pip install matplotlib"
   ]
  },
  {
   "cell_type": "code",
   "execution_count": 8,
   "id": "3fa4409c",
   "metadata": {},
   "outputs": [
    {
     "data": {
      "text/plain": [
       "<Figure size 1000x600 with 0 Axes>"
      ]
     },
     "metadata": {},
     "output_type": "display_data"
    },
    {
     "data": {
      "image/png": "[encoded data removed]",
      "text/plain": [
       "<Figure size 640x480 with 1 Axes>"
      ]
     },
     "metadata": {},
     "output_type": "display_data"
    }
   ],
   "source": [
    "# Create a crosstab of promo code usage by age group\n",
    "age_promo_counts = pd.crosstab(df_cleaned['age_group'], df_cleaned['promo_code_used'])\n",
    "\n",
    "# Plot using matplotlib\n",
    "plt.figure(figsize=(10, 6))\n",
    "age_promo_counts.plot(kind='bar', stacked=True, color=['salmon', 'lightgreen'])\n",
    "\n",
    "plt.title(\"Promo code usage by age group\")\n",
    "plt.xlabel(\"Age group\")\n",
    "plt.ylabel(\"Count\")\n",
    "plt.xticks(rotation=45)\n",
    "plt.legend(title=\"Promo code used\")\n",
    "plt.tight_layout()\n",
    "plt.show()"
   ]
  },
  {
   "cell_type": "markdown",
   "id": "3ff7f2f3",
   "metadata": {},
   "source": [
    "* Promo code usage by age group (H1) shows if younger groups (e.g., Gen Z, Millennials) use more promo codes than other groups. Gen Z and Seniors are the 2 groups that used less promo codes in relation to the other groups."
   ]
  },
  {
   "cell_type": "markdown",
   "id": "dcae8a1a",
   "metadata": {},
   "source": [
    "**2. H2: Discount usage by gender**"
   ]
  },
  {
   "cell_type": "code",
   "execution_count": 20,
   "id": "d9c6cc4f",
   "metadata": {},
   "outputs": [
    {
     "name": "stdout",
     "output_type": "stream",
     "text": [
      "Note: you may need to restart the kernel to use updated packages.\n"
     ]
    },
    {
     "name": "stderr",
     "output_type": "stream",
     "text": [
      "\n",
      "[notice] A new release of pip is available: 24.3.1 -> 25.1.1\n",
      "[notice] To update, run: python.exe -m pip install --upgrade pip\n"
     ]
    }
   ],
   "source": [
    "%pip install nbformat>=4.2.0"
   ]
  },
  {
   "cell_type": "markdown",
   "id": "040c2b7c",
   "metadata": {},
   "source": [
    "* When running the code initially, faced an error. To resolve error: 'ValueError: Mime type rendering requires nbformat>=4.2.0 but it is not installed', needed to run '%pip install nbformat>=4.2.0' as a code first. Plotly graph now displaying correctly. Breakfix advised by a fellow student (Jane Weightman)."
   ]
  },
  {
   "cell_type": "code",
   "execution_count": 9,
   "id": "a58d7929",
   "metadata": {},
   "outputs": [
    {
     "name": "stderr",
     "output_type": "stream",
     "text": [
      "c:\\Users\\User\\OneDrive\\Documents\\VS Code Projects\\dev\\Shopping-Trends\\.venv\\Lib\\site-packages\\plotly\\express\\_core.py:2065: FutureWarning: When grouping with a length-1 list-like, you will need to pass a length-1 tuple to get_group in a future version of pandas. Pass `(name,)` instead of `name` to silence this warning.\n",
      "  sf: grouped.get_group(s if len(s) > 1 else s[0])\n"
     ]
    },
    {
     "data": {
      "application/vnd.plotly.v1+json": {
       "config": {
        "plotlyServerURL": "https://plot.ly"
       },
       "data": [
        {
         "alignmentgroup": "True",
         "hovertemplate": "Discount Applied=No<br>gender=%{x}<br>Number of Customers=%{y}<extra></extra>",
         "legendgroup": "No",
         "marker": {
          "color": "#636efa",
          "pattern": {
           "shape": ""
          }
         },
         "name": "No",
         "offsetgroup": "No",
         "orientation": "v",
         "showlegend": true,
         "textposition": "auto",
         "type": "bar",
         "x": [
          "Female",
          "Male"
         ],
         "xaxis": "x",
         "y": [
          1248,
          975
         ],
         "yaxis": "y"
        },
        {
         "alignmentgroup": "True",
         "hovertemplate": "Discount Applied=Yes<br>gender=%{x}<br>Number of Customers=%{y}<extra></extra>",
         "legendgroup": "Yes",
         "marker": {
          "color": "#EF553B",
          "pattern": {
           "shape": ""
          }
         },
         "name": "Yes",
         "offsetgroup": "Yes",
         "orientation": "v",
         "showlegend": true,
         "textposition": "auto",
         "type": "bar",
         "x": [
          "Male"
         ],
         "xaxis": "x",
         "y": [
          1677
         ],
         "yaxis": "y"
        }
       ],
       "layout": {
        "barmode": "group",
        "legend": {
         "title": {
          "text": "Discount Applied"
         },
         "tracegroupgap": 0
        },
        "template": {
         "data": {
          "bar": [
           {
            "error_x": {
             "color": "#2a3f5f"
            },
            "error_y": {
             "color": "#2a3f5f"
            },
            "marker": {
             "line": {
              "color": "#E5ECF6",
              "width": 0.5
             },
             "pattern": {
              "fillmode": "overlay",
              "size": 10,
              "solidity": 0.2
             }
            },
            "type": "bar"
           }
          ],
          "barpolar": [
           {
            "marker": {
             "line": {
              "color": "#E5ECF6",
              "width": 0.5
             },
             "pattern": {
              "fillmode": "overlay",
              "size": 10,
              "solidity": 0.2
             }
            },
            "type": "barpolar"
           }
          ],
          "carpet": [
           {
            "aaxis": {
             "endlinecolor": "#2a3f5f",
             "gridcolor": "white",
             "linecolor": "white",
             "minorgridcolor": "white",
             "startlinecolor": "#2a3f5f"
            },
            "baxis": {
             "endlinecolor": "#2a3f5f",
             "gridcolor": "white",
             "linecolor": "white",
             "minorgridcolor": "white",
             "startlinecolor": "#2a3f5f"
            },
            "type": "carpet"
           }
          ],
          "choropleth": [
           {
            "colorbar": {
             "outlinewidth": 0,
             "ticks": ""
            },
            "type": "choropleth"
           }
          ],
          "contour": [
           {
            "colorbar": {
             "outlinewidth": 0,
             "ticks": ""
            },
            "colorscale": [
             [
              0,
              "#0d0887"
             ],
             [
              0.1111111111111111,
              "#46039f"
             ],
             [
              0.2222222222222222,
              "#7201a8"
             ],
             [
              0.3333333333333333,
              "#9c179e"
             ],
             [
              0.4444444444444444,
              "#bd3786"
             ],
             [
              0.5555555555555556,
              "#d8576b"
             ],
             [
              0.6666666666666666,
              "#ed7953"
             ],
             [
              0.7777777777777778,
              "#fb9f3a"
             ],
             [
              0.8888888888888888,
              "#fdca26"
             ],
             [
              1,
              "#f0f921"
             ]
            ],
            "type": "contour"
           }
          ],
          "contourcarpet": [
           {
            "colorbar": {
             "outlinewidth": 0,
             "ticks": ""
            },
            "type": "contourcarpet"
           }
          ],
          "heatmap": [
           {
            "colorbar": {
             "outlinewidth": 0,
             "ticks": ""
            },
            "colorscale": [
             [
              0,
              "#0d0887"
             ],
             [
              0.1111111111111111,
              "#46039f"
             ],
             [
              0.2222222222222222,
              "#7201a8"
             ],
             [
              0.3333333333333333,
              "#9c179e"
             ],
             [
              0.4444444444444444,
              "#bd3786"
             ],
             [
              0.5555555555555556,
              "#d8576b"
             ],
             [
              0.6666666666666666,
              "#ed7953"
             ],
             [
              0.7777777777777778,
              "#fb9f3a"
             ],
             [
              0.8888888888888888,
              "#fdca26"
             ],
             [
              1,
              "#f0f921"
             ]
            ],
            "type": "heatmap"
           }
          ],
          "heatmapgl": [
           {
            "colorbar": {
             "outlinewidth": 0,
             "ticks": ""
            },
            "colorscale": [
             [
              0,
              "#0d0887"
             ],
             [
              0.1111111111111111,
              "#46039f"
             ],
             [
              0.2222222222222222,
              "#7201a8"
             ],
             [
              0.3333333333333333,
              "#9c179e"
             ],
             [
              0.4444444444444444,
              "#bd3786"
             ],
             [
              0.5555555555555556,
              "#d8576b"
             ],
             [
              0.6666666666666666,
              "#ed7953"
             ],
             [
              0.7777777777777778,
              "#fb9f3a"
             ],
             [
              0.8888888888888888,
              "#fdca26"
             ],
             [
              1,
              "#f0f921"
             ]
            ],
            "type": "heatmapgl"
           }
          ],
          "histogram": [
           {
            "marker": {
             "pattern": {
              "fillmode": "overlay",
              "size": 10,
              "solidity": 0.2
             }
            },
            "type": "histogram"
           }
          ],
          "histogram2d": [
           {
            "colorbar": {
             "outlinewidth": 0,
             "ticks": ""
            },
            "colorscale": [
             [
              0,
              "#0d0887"
             ],
             [
              0.1111111111111111,
              "#46039f"
             ],
             [
              0.2222222222222222,
              "#7201a8"
             ],
             [
              0.3333333333333333,
              "#9c179e"
             ],
             [
              0.4444444444444444,
              "#bd3786"
             ],
             [
              0.5555555555555556,
              "#d8576b"
             ],
             [
              0.6666666666666666,
              "#ed7953"
             ],
             [
              0.7777777777777778,
              "#fb9f3a"
             ],
             [
              0.8888888888888888,
              "#fdca26"
             ],
             [
              1,
              "#f0f921"
             ]
            ],
            "type": "histogram2d"
           }
          ],
          "histogram2dcontour": [
           {
            "colorbar": {
             "outlinewidth": 0,
             "ticks": ""
            },
            "colorscale": [
             [
              0,
              "#0d0887"
             ],
             [
              0.1111111111111111,
              "#46039f"
             ],
             [
              0.2222222222222222,
              "#7201a8"
             ],
             [
              0.3333333333333333,
              "#9c179e"
             ],
             [
              0.4444444444444444,
              "#bd3786"
             ],
             [
              0.5555555555555556,
              "#d8576b"
             ],
             [
              0.6666666666666666,
              "#ed7953"
             ],
             [
              0.7777777777777778,
              "#fb9f3a"
             ],
             [
              0.8888888888888888,
              "#fdca26"
             ],
             [
              1,
              "#f0f921"
             ]
            ],
            "type": "histogram2dcontour"
           }
          ],
          "mesh3d": [
           {
            "colorbar": {
             "outlinewidth": 0,
             "ticks": ""
            },
            "type": "mesh3d"
           }
          ],
          "parcoords": [
           {
            "line": {
             "colorbar": {
              "outlinewidth": 0,
              "ticks": ""
             }
            },
            "type": "parcoords"
           }
          ],
          "pie": [
           {
            "automargin": true,
            "type": "pie"
           }
          ],
          "scatter": [
           {
            "fillpattern": {
             "fillmode": "overlay",
             "size": 10,
             "solidity": 0.2
            },
            "type": "scatter"
           }
          ],
          "scatter3d": [
           {
            "line": {
             "colorbar": {
              "outlinewidth": 0,
              "ticks": ""
             }
            },
            "marker": {
             "colorbar": {
              "outlinewidth": 0,
              "ticks": ""
             }
            },
            "type": "scatter3d"
           }
          ],
          "scattercarpet": [
           {
            "marker": {
             "colorbar": {
              "outlinewidth": 0,
              "ticks": ""
             }
            },
            "type": "scattercarpet"
           }
          ],
          "scattergeo": [
           {
            "marker": {
             "colorbar": {
              "outlinewidth": 0,
              "ticks": ""
             }
            },
            "type": "scattergeo"
           }
          ],
          "scattergl": [
           {
            "marker": {
             "colorbar": {
              "outlinewidth": 0,
              "ticks": ""
             }
            },
            "type": "scattergl"
           }
          ],
          "scattermapbox": [
           {
            "marker": {
             "colorbar": {
              "outlinewidth": 0,
              "ticks": ""
             }
            },
            "type": "scattermapbox"
           }
          ],
          "scatterpolar": [
           {
            "marker": {
             "colorbar": {
              "outlinewidth": 0,
              "ticks": ""
             }
            },
            "type": "scatterpolar"
           }
          ],
          "scatterpolargl": [
           {
            "marker": {
             "colorbar": {
              "outlinewidth": 0,
              "ticks": ""
             }
            },
            "type": "scatterpolargl"
           }
          ],
          "scatterternary": [
           {
            "marker": {
             "colorbar": {
              "outlinewidth": 0,
              "ticks": ""
             }
            },
            "type": "scatterternary"
           }
          ],
          "surface": [
           {
            "colorbar": {
             "outlinewidth": 0,
             "ticks": ""
            },
            "colorscale": [
             [
              0,
              "#0d0887"
             ],
             [
              0.1111111111111111,
              "#46039f"
             ],
             [
              0.2222222222222222,
              "#7201a8"
             ],
             [
              0.3333333333333333,
              "#9c179e"
             ],
             [
              0.4444444444444444,
              "#bd3786"
             ],
             [
              0.5555555555555556,
              "#d8576b"
             ],
             [
              0.6666666666666666,
              "#ed7953"
             ],
             [
              0.7777777777777778,
              "#fb9f3a"
             ],
             [
              0.8888888888888888,
              "#fdca26"
             ],
             [
              1,
              "#f0f921"
             ]
            ],
            "type": "surface"
           }
          ],
          "table": [
           {
            "cells": {
             "fill": {
              "color": "#EBF0F8"
             },
             "line": {
              "color": "white"
             }
            },
            "header": {
             "fill": {
              "color": "#C8D4E3"
             },
             "line": {
              "color": "white"
             }
            },
            "type": "table"
           }
          ]
         },
         "layout": {
          "annotationdefaults": {
           "arrowcolor": "#2a3f5f",
           "arrowhead": 0,
           "arrowwidth": 1
          },
          "autotypenumbers": "strict",
          "coloraxis": {
           "colorbar": {
            "outlinewidth": 0,
            "ticks": ""
           }
          },
          "colorscale": {
           "diverging": [
            [
             0,
             "#8e0152"
            ],
            [
             0.1,
             "#c51b7d"
            ],
            [
             0.2,
             "#de77ae"
            ],
            [
             0.3,
             "#f1b6da"
            ],
            [
             0.4,
             "#fde0ef"
            ],
            [
             0.5,
             "#f7f7f7"
            ],
            [
             0.6,
             "#e6f5d0"
            ],
            [
             0.7,
             "#b8e186"
            ],
            [
             0.8,
             "#7fbc41"
            ],
            [
             0.9,
             "#4d9221"
            ],
            [
             1,
             "#276419"
            ]
           ],
           "sequential": [
            [
             0,
             "#0d0887"
            ],
            [
             0.1111111111111111,
             "#46039f"
            ],
            [
             0.2222222222222222,
             "#7201a8"
            ],
            [
             0.3333333333333333,
             "#9c179e"
            ],
            [
             0.4444444444444444,
             "#bd3786"
            ],
            [
             0.5555555555555556,
             "#d8576b"
            ],
            [
             0.6666666666666666,
             "#ed7953"
            ],
            [
             0.7777777777777778,
             "#fb9f3a"
            ],
            [
             0.8888888888888888,
             "#fdca26"
            ],
            [
             1,
             "#f0f921"
            ]
           ],
           "sequentialminus": [
            [
             0,
             "#0d0887"
            ],
            [
             0.1111111111111111,
             "#46039f"
            ],
            [
             0.2222222222222222,
             "#7201a8"
            ],
            [
             0.3333333333333333,
             "#9c179e"
            ],
            [
             0.4444444444444444,
             "#bd3786"
            ],
            [
             0.5555555555555556,
             "#d8576b"
            ],
            [
             0.6666666666666666,
             "#ed7953"
            ],
            [
             0.7777777777777778,
             "#fb9f3a"
            ],
            [
             0.8888888888888888,
             "#fdca26"
            ],
            [
             1,
             "#f0f921"
            ]
           ]
          },
          "colorway": [
           "#636efa",
           "#EF553B",
           "#00cc96",
           "#ab63fa",
           "#FFA15A",
           "#19d3f3",
           "#FF6692",
           "#B6E880",
           "#FF97FF",
           "#FECB52"
          ],
          "font": {
           "color": "#2a3f5f"
          },
          "geo": {
           "bgcolor": "white",
           "lakecolor": "white",
           "landcolor": "#E5ECF6",
           "showlakes": true,
           "showland": true,
           "subunitcolor": "white"
          },
          "hoverlabel": {
           "align": "left"
          },
          "hovermode": "closest",
          "mapbox": {
           "style": "light"
          },
          "paper_bgcolor": "white",
          "plot_bgcolor": "#E5ECF6",
          "polar": {
           "angularaxis": {
            "gridcolor": "white",
            "linecolor": "white",
            "ticks": ""
           },
           "bgcolor": "#E5ECF6",
           "radialaxis": {
            "gridcolor": "white",
            "linecolor": "white",
            "ticks": ""
           }
          },
          "scene": {
           "xaxis": {
            "backgroundcolor": "#E5ECF6",
            "gridcolor": "white",
            "gridwidth": 2,
            "linecolor": "white",
            "showbackground": true,
            "ticks": "",
            "zerolinecolor": "white"
           },
           "yaxis": {
            "backgroundcolor": "#E5ECF6",
            "gridcolor": "white",
            "gridwidth": 2,
            "linecolor": "white",
            "showbackground": true,
            "ticks": "",
            "zerolinecolor": "white"
           },
           "zaxis": {
            "backgroundcolor": "#E5ECF6",
            "gridcolor": "white",
            "gridwidth": 2,
            "linecolor": "white",
            "showbackground": true,
            "ticks": "",
            "zerolinecolor": "white"
           }
          },
          "shapedefaults": {
           "line": {
            "color": "#2a3f5f"
           }
          },
          "ternary": {
           "aaxis": {
            "gridcolor": "white",
            "linecolor": "white",
            "ticks": ""
           },
           "baxis": {
            "gridcolor": "white",
            "linecolor": "white",
            "ticks": ""
           },
           "bgcolor": "#E5ECF6",
           "caxis": {
            "gridcolor": "white",
            "linecolor": "white",
            "ticks": ""
           }
          },
          "title": {
           "x": 0.05
          },
          "xaxis": {
           "automargin": true,
           "gridcolor": "white",
           "linecolor": "white",
           "ticks": "",
           "title": {
            "standoff": 15
           },
           "zerolinecolor": "white",
           "zerolinewidth": 2
          },
          "yaxis": {
           "automargin": true,
           "gridcolor": "white",
           "linecolor": "white",
           "ticks": "",
           "title": {
            "standoff": 15
           },
           "zerolinecolor": "white",
           "zerolinewidth": 2
          }
         }
        },
        "title": {
         "text": "Discount usage by gender (interactive)"
        },
        "xaxis": {
         "anchor": "y",
         "domain": [
          0,
          1
         ],
         "title": {
          "text": "gender"
         }
        },
        "yaxis": {
         "anchor": "x",
         "domain": [
          0,
          1
         ],
         "title": {
          "text": "Number of Customers"
         }
        }
       }
      }
     },
     "metadata": {},
     "output_type": "display_data"
    }
   ],
   "source": [
    "h2_plot_data = df_cleaned.groupby(['gender', 'discount_applied']).size().reset_index(name='count')\n",
    "\n",
    "# Create Plotly bar chart\n",
    "fig = px.bar(\n",
    "    h2_plot_data,\n",
    "    x=\"gender\",\n",
    "    y=\"count\",\n",
    "    color=\"discount_applied\",\n",
    "    barmode=\"group\",\n",
    "    title=\"Discount usage by gender (interactive)\",\n",
    "    labels={\"discount_applied\": \"Discount Applied\", \"count\": \"Number of Customers\"}\n",
    ")\n",
    "\n",
    "# Show the figure\n",
    "fig.show()"
   ]
  },
  {
   "cell_type": "markdown",
   "id": "56746946",
   "metadata": {},
   "source": [
    "* Discount usage by gender (H2) highlights gender differences in using discounts. Males were the ones who made the most use of discounts compared to women who did not use discounts at all."
   ]
  },
  {
   "cell_type": "markdown",
   "id": "d362d143",
   "metadata": {},
   "source": [
    "3. **H3: Purchase amount by discount usage**"
   ]
  },
  {
   "cell_type": "code",
   "execution_count": 10,
   "id": "a3025c84",
   "metadata": {},
   "outputs": [
    {
     "data": {
      "image/png": "[encoded data removed]",
      "text/plain": [
       "<Figure size 800x600 with 1 Axes>"
      ]
     },
     "metadata": {},
     "output_type": "display_data"
    }
   ],
   "source": [
    "plt.figure(figsize=(8, 6))\n",
    "sns.boxplot(data=df_cleaned, x='discount_applied', y='purchase_amount_(usd)', hue='discount_applied', palette='Set2', legend=False)\n",
    "plt.title(\"Purchase amount by discount usage\")\n",
    "plt.xlabel(\"Discount Applied\")\n",
    "plt.ylabel(\"Purchase Amount (USD)\")\n",
    "plt.tight_layout()\n",
    "plt.show()"
   ]
  },
  {
   "cell_type": "markdown",
   "id": "56e9f8c8",
   "metadata": {},
   "source": [
    "* Purchase amount by discount usage (H3) uses a boxplot to compare spending behaviour with and without discounts.\n",
    "\n",
    "* The boxplot suggests that customers who used discounts spent less per purchase than the ones who did not. I would take this outcome as a pintch of salt since our statistical test above produced a non statistically significant result (customers who use discounts tend to spend more per pruchase). So, we can't confidently say if using discounts leads or not to higher spending based on this data. As stated earlier, in a working environment, I would question the integrity of the data with the business."
   ]
  },
  {
   "cell_type": "markdown",
   "id": "b3fdba8c",
   "metadata": {},
   "source": [
    "**4. H4: Promo code usage by season**"
   ]
  },
  {
   "cell_type": "code",
   "execution_count": 11,
   "id": "e7cec91f",
   "metadata": {},
   "outputs": [
    {
     "data": {
      "image/png": "[encoded data removed]",
      "text/plain": [
       "<Figure size 800x600 with 1 Axes>"
      ]
     },
     "metadata": {},
     "output_type": "display_data"
    }
   ],
   "source": [
    "plt.figure(figsize=(8, 6))\n",
    "sns.countplot(data=df_cleaned, x='season', hue='promo_code_used', palette='coolwarm')\n",
    "plt.title(\"Promo Code Usage by Season\")\n",
    "plt.xlabel(\"Season\")\n",
    "plt.ylabel(\"Count\")\n",
    "plt.legend(title=\"Promo Code Used\")\n",
    "plt.tight_layout()\n",
    "plt.show()"
   ]
  },
  {
   "cell_type": "markdown",
   "id": "dcd51ead",
   "metadata": {},
   "source": [
    "* Promo code usage by season (H4) helps identify seasonal patterns in promo code usage. As stated earlier, across all seasons, promotional events do not seem to have an effect on customer purchase behaviour. Based on the graph, promotional codes used in descending order (highest to lowest): Spring, Summer, Winter, Fall."
   ]
  },
  {
   "cell_type": "code",
   "execution_count": null,
   "id": "8ed0fce7",
   "metadata": {},
   "outputs": [],
   "source": []
  }
 ],
 "metadata": {
  "kernelspec": {
   "display_name": ".venv",
   "language": "python",
   "name": "python3"
  },
  "language_info": {
   "codemirror_mode": {
    "name": "ipython",
    "version": 3
   },
   "file_extension": ".py",
   "mimetype": "text/x-python",
   "name": "python",
   "nbconvert_exporter": "python",
   "pygments_lexer": "ipython3",
   "version": "3.12.8"
  }
 },
 "nbformat": 4,
 "nbformat_minor": 5
}
